{
 "cells": [
  {
   "cell_type": "markdown",
   "id": "6f93ef46",
   "metadata": {},
   "source": [
    "Let's begin by importing pandas. It is conventional to use pd to denote pandas.\n",
    "\n",
    "Next we will import each of the three tables and assign names to each of the columns:"
   ]
  },
  {
   "cell_type": "code",
   "execution_count": 1,
   "id": "c9eebddb",
   "metadata": {},
   "outputs": [
    {
     "data": {
      "text/html": [
       "<div>\n",
       "<style scoped>\n",
       "    .dataframe tbody tr th:only-of-type {\n",
       "        vertical-align: middle;\n",
       "    }\n",
       "\n",
       "    .dataframe tbody tr th {\n",
       "        vertical-align: top;\n",
       "    }\n",
       "\n",
       "    .dataframe thead th {\n",
       "        text-align: right;\n",
       "    }\n",
       "</style>\n",
       "<table border=\"1\" class=\"dataframe\">\n",
       "  <thead>\n",
       "    <tr style=\"text-align: right;\">\n",
       "      <th></th>\n",
       "      <th>user_id</th>\n",
       "      <th>movie_id</th>\n",
       "      <th>rating</th>\n",
       "      <th>timestamp</th>\n",
       "      <th>gender</th>\n",
       "      <th>age</th>\n",
       "      <th>occupation</th>\n",
       "      <th>zip</th>\n",
       "      <th>title</th>\n",
       "      <th>genres</th>\n",
       "    </tr>\n",
       "  </thead>\n",
       "  <tbody>\n",
       "    <tr>\n",
       "      <th>0</th>\n",
       "      <td>1</td>\n",
       "      <td>1193</td>\n",
       "      <td>5</td>\n",
       "      <td>978300760</td>\n",
       "      <td>F</td>\n",
       "      <td>1</td>\n",
       "      <td>10</td>\n",
       "      <td>48067</td>\n",
       "      <td>One Flew Over the Cuckoo's Nest (1975)</td>\n",
       "      <td>Drama</td>\n",
       "    </tr>\n",
       "    <tr>\n",
       "      <th>1</th>\n",
       "      <td>2</td>\n",
       "      <td>1193</td>\n",
       "      <td>5</td>\n",
       "      <td>978298413</td>\n",
       "      <td>M</td>\n",
       "      <td>56</td>\n",
       "      <td>16</td>\n",
       "      <td>70072</td>\n",
       "      <td>One Flew Over the Cuckoo's Nest (1975)</td>\n",
       "      <td>Drama</td>\n",
       "    </tr>\n",
       "    <tr>\n",
       "      <th>2</th>\n",
       "      <td>12</td>\n",
       "      <td>1193</td>\n",
       "      <td>4</td>\n",
       "      <td>978220179</td>\n",
       "      <td>M</td>\n",
       "      <td>25</td>\n",
       "      <td>12</td>\n",
       "      <td>32793</td>\n",
       "      <td>One Flew Over the Cuckoo's Nest (1975)</td>\n",
       "      <td>Drama</td>\n",
       "    </tr>\n",
       "    <tr>\n",
       "      <th>3</th>\n",
       "      <td>15</td>\n",
       "      <td>1193</td>\n",
       "      <td>4</td>\n",
       "      <td>978199279</td>\n",
       "      <td>M</td>\n",
       "      <td>25</td>\n",
       "      <td>7</td>\n",
       "      <td>22903</td>\n",
       "      <td>One Flew Over the Cuckoo's Nest (1975)</td>\n",
       "      <td>Drama</td>\n",
       "    </tr>\n",
       "    <tr>\n",
       "      <th>4</th>\n",
       "      <td>17</td>\n",
       "      <td>1193</td>\n",
       "      <td>5</td>\n",
       "      <td>978158471</td>\n",
       "      <td>M</td>\n",
       "      <td>50</td>\n",
       "      <td>1</td>\n",
       "      <td>95350</td>\n",
       "      <td>One Flew Over the Cuckoo's Nest (1975)</td>\n",
       "      <td>Drama</td>\n",
       "    </tr>\n",
       "  </tbody>\n",
       "</table>\n",
       "</div>"
      ],
      "text/plain": [
       "   user_id  movie_id  rating  timestamp gender  age  occupation    zip  \\\n",
       "0        1      1193       5  978300760      F    1          10  48067   \n",
       "1        2      1193       5  978298413      M   56          16  70072   \n",
       "2       12      1193       4  978220179      M   25          12  32793   \n",
       "3       15      1193       4  978199279      M   25           7  22903   \n",
       "4       17      1193       5  978158471      M   50           1  95350   \n",
       "\n",
       "                                    title genres  \n",
       "0  One Flew Over the Cuckoo's Nest (1975)  Drama  \n",
       "1  One Flew Over the Cuckoo's Nest (1975)  Drama  \n",
       "2  One Flew Over the Cuckoo's Nest (1975)  Drama  \n",
       "3  One Flew Over the Cuckoo's Nest (1975)  Drama  \n",
       "4  One Flew Over the Cuckoo's Nest (1975)  Drama  "
      ]
     },
     "execution_count": 1,
     "metadata": {},
     "output_type": "execute_result"
    }
   ],
   "source": [
    "import pandas as pd\n",
    "import numpy as np\n",
    "\n",
    "unames = ['user_id', 'gender', 'age', 'occupation', 'zip']\n",
    "users = pd.read_table('ml-1m/users.dat', sep='::', header=None, names=unames, engine='python')\n",
    "\n",
    "rnames = ['user_id', 'movie_id', 'rating', 'timestamp']\n",
    "ratings = pd.read_table('ml-1m/ratings.dat', sep='::', header=None, names=rnames, engine='python')\n",
    "\n",
    "mnames = ['movie_id', 'title', 'genres']\n",
    "movies = pd.read_table('ml-1m/movies.dat', sep='::', header=None, names=mnames, engine='python', encoding=\"unicode_escape\")\n",
    "\n",
    "data = pd.merge(pd.merge(ratings, users), movies)\n",
    "\n",
    "data.head(5)"
   ]
  },
  {
   "cell_type": "markdown",
   "id": "15e1ba66",
   "metadata": {},
   "source": [
    "1. An aggregate on the number of rating done for each particular genre, e.g., Action, Adventure, Drama, Science Fiction, ..."
   ]
  },
  {
   "cell_type": "code",
   "execution_count": 2,
   "id": "fae9b2bd",
   "metadata": {},
   "outputs": [
    {
     "data": {
      "text/plain": [
       "genres\n",
       "Action         257457\n",
       "Adventure      133953\n",
       "Animation       43293\n",
       "Children's      72186\n",
       "Comedy         356580\n",
       "Crime           79541\n",
       "Documentary      7910\n",
       "Drama          354529\n",
       "Fantasy         36301\n",
       "Film-Noir       18261\n",
       "Horror          76386\n",
       "Musical         41533\n",
       "Mystery         40178\n",
       "Romance        147523\n",
       "Sci-Fi         157294\n",
       "Thriller       189680\n",
       "War             68527\n",
       "Western         20683\n",
       "dtype: int64"
      ]
     },
     "execution_count": 2,
     "metadata": {},
     "output_type": "execute_result"
    }
   ],
   "source": [
    "data2 = data['genres'].str.split('|', expand = True)\n",
    "data2 = data2.stack()\n",
    "data2 = data2.reset_index(level = 1, drop = True)\n",
    "data2.name = 'genres'\n",
    "data = data.drop(['genres'], axis = 1).join(data2)\n",
    "\n",
    "ratings_by_genres = data.groupby('genres').size()\n",
    "ratings_by_genres"
   ]
  },
  {
   "cell_type": "code",
   "execution_count": null,
   "id": "3b05e788",
   "metadata": {},
   "outputs": [],
   "source": []
  },
  {
   "cell_type": "markdown",
   "id": "bcceac60",
   "metadata": {},
   "source": [
    "2. The top 5 ranked genres by women on most number of rating."
   ]
  },
  {
   "cell_type": "code",
   "execution_count": 3,
   "id": "bde6e85d",
   "metadata": {},
   "outputs": [
    {
     "data": {
      "text/html": [
       "<div>\n",
       "<style scoped>\n",
       "    .dataframe tbody tr th:only-of-type {\n",
       "        vertical-align: middle;\n",
       "    }\n",
       "\n",
       "    .dataframe tbody tr th {\n",
       "        vertical-align: top;\n",
       "    }\n",
       "\n",
       "    .dataframe thead th {\n",
       "        text-align: right;\n",
       "    }\n",
       "</style>\n",
       "<table border=\"1\" class=\"dataframe\">\n",
       "  <thead>\n",
       "    <tr style=\"text-align: right;\">\n",
       "      <th>gender</th>\n",
       "      <th>F</th>\n",
       "      <th>M</th>\n",
       "    </tr>\n",
       "    <tr>\n",
       "      <th>genres</th>\n",
       "      <th></th>\n",
       "      <th></th>\n",
       "    </tr>\n",
       "  </thead>\n",
       "  <tbody>\n",
       "    <tr>\n",
       "      <th>Action</th>\n",
       "      <td>3.490252</td>\n",
       "      <td>3.491386</td>\n",
       "    </tr>\n",
       "    <tr>\n",
       "      <th>Adventure</th>\n",
       "      <td>3.512879</td>\n",
       "      <td>3.468125</td>\n",
       "    </tr>\n",
       "    <tr>\n",
       "      <th>Animation</th>\n",
       "      <td>3.744702</td>\n",
       "      <td>3.661335</td>\n",
       "    </tr>\n",
       "    <tr>\n",
       "      <th>Children's</th>\n",
       "      <td>3.572548</td>\n",
       "      <td>3.358961</td>\n",
       "    </tr>\n",
       "    <tr>\n",
       "      <th>Comedy</th>\n",
       "      <td>3.571938</td>\n",
       "      <td>3.503667</td>\n",
       "    </tr>\n",
       "  </tbody>\n",
       "</table>\n",
       "</div>"
      ],
      "text/plain": [
       "gender             F         M\n",
       "genres                        \n",
       "Action      3.490252  3.491386\n",
       "Adventure   3.512879  3.468125\n",
       "Animation   3.744702  3.661335\n",
       "Children's  3.572548  3.358961\n",
       "Comedy      3.571938  3.503667"
      ]
     },
     "execution_count": 3,
     "metadata": {},
     "output_type": "execute_result"
    }
   ],
   "source": [
    "mean_ratings = data.pivot_table('rating', index='genres', columns='gender', aggfunc='mean')\n",
    "mean_ratings[:5]"
   ]
  },
  {
   "cell_type": "code",
   "execution_count": 4,
   "id": "e29c2139",
   "metadata": {},
   "outputs": [
    {
     "data": {
      "text/html": [
       "<div>\n",
       "<style scoped>\n",
       "    .dataframe tbody tr th:only-of-type {\n",
       "        vertical-align: middle;\n",
       "    }\n",
       "\n",
       "    .dataframe tbody tr th {\n",
       "        vertical-align: top;\n",
       "    }\n",
       "\n",
       "    .dataframe thead th {\n",
       "        text-align: right;\n",
       "    }\n",
       "</style>\n",
       "<table border=\"1\" class=\"dataframe\">\n",
       "  <thead>\n",
       "    <tr style=\"text-align: right;\">\n",
       "      <th>gender</th>\n",
       "      <th>F</th>\n",
       "      <th>M</th>\n",
       "    </tr>\n",
       "    <tr>\n",
       "      <th>genres</th>\n",
       "      <th></th>\n",
       "      <th></th>\n",
       "    </tr>\n",
       "  </thead>\n",
       "  <tbody>\n",
       "    <tr>\n",
       "      <th>Film-Noir</th>\n",
       "      <td>4.018087</td>\n",
       "      <td>4.092254</td>\n",
       "    </tr>\n",
       "    <tr>\n",
       "      <th>Documentary</th>\n",
       "      <td>3.946392</td>\n",
       "      <td>3.928811</td>\n",
       "    </tr>\n",
       "    <tr>\n",
       "      <th>War</th>\n",
       "      <td>3.893138</td>\n",
       "      <td>3.893375</td>\n",
       "    </tr>\n",
       "    <tr>\n",
       "      <th>Musical</th>\n",
       "      <td>3.809108</td>\n",
       "      <td>3.596332</td>\n",
       "    </tr>\n",
       "    <tr>\n",
       "      <th>Drama</th>\n",
       "      <td>3.765662</td>\n",
       "      <td>3.766589</td>\n",
       "    </tr>\n",
       "  </tbody>\n",
       "</table>\n",
       "</div>"
      ],
      "text/plain": [
       "gender              F         M\n",
       "genres                         \n",
       "Film-Noir    4.018087  4.092254\n",
       "Documentary  3.946392  3.928811\n",
       "War          3.893138  3.893375\n",
       "Musical      3.809108  3.596332\n",
       "Drama        3.765662  3.766589"
      ]
     },
     "execution_count": 4,
     "metadata": {},
     "output_type": "execute_result"
    }
   ],
   "source": [
    "top_female_ratings = mean_ratings.sort_values(by='F', ascending=False)\n",
    "top_female_ratings[:5]"
   ]
  },
  {
   "cell_type": "markdown",
   "id": "c20532ca",
   "metadata": {},
   "source": [
    "3. The top 5 ranked genres by men on most number of rating."
   ]
  },
  {
   "cell_type": "code",
   "execution_count": 5,
   "id": "2b891c41",
   "metadata": {},
   "outputs": [
    {
     "data": {
      "text/html": [
       "<div>\n",
       "<style scoped>\n",
       "    .dataframe tbody tr th:only-of-type {\n",
       "        vertical-align: middle;\n",
       "    }\n",
       "\n",
       "    .dataframe tbody tr th {\n",
       "        vertical-align: top;\n",
       "    }\n",
       "\n",
       "    .dataframe thead th {\n",
       "        text-align: right;\n",
       "    }\n",
       "</style>\n",
       "<table border=\"1\" class=\"dataframe\">\n",
       "  <thead>\n",
       "    <tr style=\"text-align: right;\">\n",
       "      <th>gender</th>\n",
       "      <th>F</th>\n",
       "      <th>M</th>\n",
       "    </tr>\n",
       "    <tr>\n",
       "      <th>genres</th>\n",
       "      <th></th>\n",
       "      <th></th>\n",
       "    </tr>\n",
       "  </thead>\n",
       "  <tbody>\n",
       "    <tr>\n",
       "      <th>Film-Noir</th>\n",
       "      <td>4.018087</td>\n",
       "      <td>4.092254</td>\n",
       "    </tr>\n",
       "    <tr>\n",
       "      <th>Documentary</th>\n",
       "      <td>3.946392</td>\n",
       "      <td>3.928811</td>\n",
       "    </tr>\n",
       "    <tr>\n",
       "      <th>War</th>\n",
       "      <td>3.893138</td>\n",
       "      <td>3.893375</td>\n",
       "    </tr>\n",
       "    <tr>\n",
       "      <th>Drama</th>\n",
       "      <td>3.765662</td>\n",
       "      <td>3.766589</td>\n",
       "    </tr>\n",
       "    <tr>\n",
       "      <th>Crime</th>\n",
       "      <td>3.689332</td>\n",
       "      <td>3.713720</td>\n",
       "    </tr>\n",
       "  </tbody>\n",
       "</table>\n",
       "</div>"
      ],
      "text/plain": [
       "gender              F         M\n",
       "genres                         \n",
       "Film-Noir    4.018087  4.092254\n",
       "Documentary  3.946392  3.928811\n",
       "War          3.893138  3.893375\n",
       "Drama        3.765662  3.766589\n",
       "Crime        3.689332  3.713720"
      ]
     },
     "execution_count": 5,
     "metadata": {},
     "output_type": "execute_result"
    }
   ],
   "source": [
    "top_male_ratings = mean_ratings.sort_values(by='M', ascending=False)\n",
    "top_male_ratings[:5]"
   ]
  },
  {
   "cell_type": "markdown",
   "id": "b49fb5cc",
   "metadata": {},
   "source": [
    "4. Pick a genre of your choice and provide average movie’s ratings by the following four time intervals during which the movies were released (a) 1970 to 1979 (b) 1980 to 1989 (c) 1990 to 1999 (d) 2000 to 2009. Also, if you observed any issues with data in any of these ranges, please mention it."
   ]
  },
  {
   "cell_type": "markdown",
   "id": "cb9180a2",
   "metadata": {},
   "source": [
    "(a) 1970 to 1979"
   ]
  },
  {
   "cell_type": "code",
   "execution_count": 6,
   "id": "892862f4",
   "metadata": {},
   "outputs": [
    {
     "data": {
      "text/plain": [
       "3.8247589726970754"
      ]
     },
     "execution_count": 6,
     "metadata": {},
     "output_type": "execute_result"
    }
   ],
   "source": [
    "year_data = data\n",
    "year_data['title'] = data['title'].str.slice(-5,-1).astype('int')\n",
    "year_genre1 = year_data.loc[(year_data[\"genres\"] == \"Action\") & (year_data[\"title\"] >= 1970) & (year_data[\"title\"] <= 1979)]\n",
    "year_genre1[\"rating\"].mean()"
   ]
  },
  {
   "cell_type": "markdown",
   "id": "52b87b80",
   "metadata": {},
   "source": [
    "(b) 1980 to 1989"
   ]
  },
  {
   "cell_type": "code",
   "execution_count": 7,
   "id": "2e1b2e53",
   "metadata": {},
   "outputs": [
    {
     "data": {
      "text/plain": [
       "3.6652872444011684"
      ]
     },
     "execution_count": 7,
     "metadata": {},
     "output_type": "execute_result"
    }
   ],
   "source": [
    "year_genre2 = year_data.loc[(year_data[\"genres\"] == \"Action\") & (year_data[\"title\"] >= 1980) & (year_data[\"title\"] <= 1989)]\n",
    "year_genre2[\"rating\"].mean()"
   ]
  },
  {
   "cell_type": "markdown",
   "id": "e57e45c3",
   "metadata": {},
   "source": [
    "(c) 1990 to 1999"
   ]
  },
  {
   "cell_type": "code",
   "execution_count": 8,
   "id": "87268bf4",
   "metadata": {},
   "outputs": [
    {
     "data": {
      "text/plain": [
       "3.3072670670285595"
      ]
     },
     "execution_count": 8,
     "metadata": {},
     "output_type": "execute_result"
    }
   ],
   "source": [
    "year_genre3 = year_data.loc[(year_data[\"genres\"] == \"Action\") & (year_data[\"title\"] >= 1990) & (year_data[\"title\"] <= 1999)]\n",
    "year_genre3[\"rating\"].mean()"
   ]
  },
  {
   "cell_type": "markdown",
   "id": "9cc15b5d",
   "metadata": {},
   "source": [
    "(d) 2000 to 2009"
   ]
  },
  {
   "cell_type": "code",
   "execution_count": 9,
   "id": "547ecf8d",
   "metadata": {},
   "outputs": [
    {
     "data": {
      "text/plain": [
       "3.465275486638073"
      ]
     },
     "execution_count": 9,
     "metadata": {},
     "output_type": "execute_result"
    }
   ],
   "source": [
    "year_genre4 = year_data.loc[(year_data[\"genres\"] == \"Action\") & (year_data[\"title\"] >= 2000) & (year_data[\"title\"] <= 2009)]\n",
    "year_genre4[\"rating\"].mean()"
   ]
  },
  {
   "cell_type": "markdown",
   "id": "ac88ae39",
   "metadata": {},
   "source": [
    "5. A function that given a genre and a rating_range (i.e. [3.5, 4]), returns all the movies of that genre and within that rating range sorted by average rating. Using an example, demonstrate that your function works."
   ]
  },
  {
   "cell_type": "code",
   "execution_count": 10,
   "id": "87656ac1",
   "metadata": {},
   "outputs": [
    {
     "data": {
      "text/html": [
       "<div>\n",
       "<style scoped>\n",
       "    .dataframe tbody tr th:only-of-type {\n",
       "        vertical-align: middle;\n",
       "    }\n",
       "\n",
       "    .dataframe tbody tr th {\n",
       "        vertical-align: top;\n",
       "    }\n",
       "\n",
       "    .dataframe thead th {\n",
       "        text-align: right;\n",
       "    }\n",
       "</style>\n",
       "<table border=\"1\" class=\"dataframe\">\n",
       "  <thead>\n",
       "    <tr style=\"text-align: right;\">\n",
       "      <th></th>\n",
       "      <th>user_id</th>\n",
       "      <th>movie_id</th>\n",
       "      <th>rating</th>\n",
       "      <th>timestamp</th>\n",
       "      <th>gender</th>\n",
       "      <th>age</th>\n",
       "      <th>occupation</th>\n",
       "      <th>zip</th>\n",
       "      <th>title</th>\n",
       "      <th>genres</th>\n",
       "    </tr>\n",
       "  </thead>\n",
       "  <tbody>\n",
       "    <tr>\n",
       "      <th>5904</th>\n",
       "      <td>1</td>\n",
       "      <td>1197</td>\n",
       "      <td>3</td>\n",
       "      <td>978302268</td>\n",
       "      <td>F</td>\n",
       "      <td>1</td>\n",
       "      <td>10</td>\n",
       "      <td>48067</td>\n",
       "      <td>1987</td>\n",
       "      <td>Action</td>\n",
       "    </tr>\n",
       "    <tr>\n",
       "      <th>5911</th>\n",
       "      <td>22</td>\n",
       "      <td>1197</td>\n",
       "      <td>3</td>\n",
       "      <td>978134929</td>\n",
       "      <td>M</td>\n",
       "      <td>18</td>\n",
       "      <td>15</td>\n",
       "      <td>53706</td>\n",
       "      <td>1987</td>\n",
       "      <td>Action</td>\n",
       "    </tr>\n",
       "    <tr>\n",
       "      <th>5923</th>\n",
       "      <td>45</td>\n",
       "      <td>1197</td>\n",
       "      <td>3</td>\n",
       "      <td>977990135</td>\n",
       "      <td>F</td>\n",
       "      <td>45</td>\n",
       "      <td>16</td>\n",
       "      <td>94110</td>\n",
       "      <td>1987</td>\n",
       "      <td>Action</td>\n",
       "    </tr>\n",
       "    <tr>\n",
       "      <th>5924</th>\n",
       "      <td>48</td>\n",
       "      <td>1197</td>\n",
       "      <td>3</td>\n",
       "      <td>977975030</td>\n",
       "      <td>M</td>\n",
       "      <td>25</td>\n",
       "      <td>4</td>\n",
       "      <td>92107</td>\n",
       "      <td>1987</td>\n",
       "      <td>Action</td>\n",
       "    </tr>\n",
       "    <tr>\n",
       "      <th>5931</th>\n",
       "      <td>87</td>\n",
       "      <td>1197</td>\n",
       "      <td>3</td>\n",
       "      <td>977694356</td>\n",
       "      <td>M</td>\n",
       "      <td>25</td>\n",
       "      <td>14</td>\n",
       "      <td>48360</td>\n",
       "      <td>1987</td>\n",
       "      <td>Action</td>\n",
       "    </tr>\n",
       "    <tr>\n",
       "      <th>...</th>\n",
       "      <td>...</td>\n",
       "      <td>...</td>\n",
       "      <td>...</td>\n",
       "      <td>...</td>\n",
       "      <td>...</td>\n",
       "      <td>...</td>\n",
       "      <td>...</td>\n",
       "      <td>...</td>\n",
       "      <td>...</td>\n",
       "      <td>...</td>\n",
       "    </tr>\n",
       "    <tr>\n",
       "      <th>999815</th>\n",
       "      <td>3579</td>\n",
       "      <td>815</td>\n",
       "      <td>3</td>\n",
       "      <td>966711571</td>\n",
       "      <td>M</td>\n",
       "      <td>18</td>\n",
       "      <td>0</td>\n",
       "      <td>32219</td>\n",
       "      <td>1995</td>\n",
       "      <td>Action</td>\n",
       "    </tr>\n",
       "    <tr>\n",
       "      <th>1000049</th>\n",
       "      <td>3314</td>\n",
       "      <td>3443</td>\n",
       "      <td>3</td>\n",
       "      <td>967947206</td>\n",
       "      <td>M</td>\n",
       "      <td>25</td>\n",
       "      <td>7</td>\n",
       "      <td>06516</td>\n",
       "      <td>1986</td>\n",
       "      <td>Action</td>\n",
       "    </tr>\n",
       "    <tr>\n",
       "      <th>1000050</th>\n",
       "      <td>3618</td>\n",
       "      <td>3443</td>\n",
       "      <td>3</td>\n",
       "      <td>966598532</td>\n",
       "      <td>M</td>\n",
       "      <td>56</td>\n",
       "      <td>17</td>\n",
       "      <td>22657</td>\n",
       "      <td>1986</td>\n",
       "      <td>Action</td>\n",
       "    </tr>\n",
       "    <tr>\n",
       "      <th>1000193</th>\n",
       "      <td>5227</td>\n",
       "      <td>591</td>\n",
       "      <td>3</td>\n",
       "      <td>961475931</td>\n",
       "      <td>M</td>\n",
       "      <td>18</td>\n",
       "      <td>10</td>\n",
       "      <td>64050</td>\n",
       "      <td>1995</td>\n",
       "      <td>Action</td>\n",
       "    </tr>\n",
       "    <tr>\n",
       "      <th>1000201</th>\n",
       "      <td>5433</td>\n",
       "      <td>286</td>\n",
       "      <td>3</td>\n",
       "      <td>960240881</td>\n",
       "      <td>F</td>\n",
       "      <td>35</td>\n",
       "      <td>17</td>\n",
       "      <td>45014</td>\n",
       "      <td>1995</td>\n",
       "      <td>Action</td>\n",
       "    </tr>\n",
       "  </tbody>\n",
       "</table>\n",
       "<p>70728 rows × 10 columns</p>\n",
       "</div>"
      ],
      "text/plain": [
       "         user_id  movie_id  rating  timestamp gender  age  occupation    zip  \\\n",
       "5904           1      1197       3  978302268      F    1          10  48067   \n",
       "5911          22      1197       3  978134929      M   18          15  53706   \n",
       "5923          45      1197       3  977990135      F   45          16  94110   \n",
       "5924          48      1197       3  977975030      M   25           4  92107   \n",
       "5931          87      1197       3  977694356      M   25          14  48360   \n",
       "...          ...       ...     ...        ...    ...  ...         ...    ...   \n",
       "999815      3579       815       3  966711571      M   18           0  32219   \n",
       "1000049     3314      3443       3  967947206      M   25           7  06516   \n",
       "1000050     3618      3443       3  966598532      M   56          17  22657   \n",
       "1000193     5227       591       3  961475931      M   18          10  64050   \n",
       "1000201     5433       286       3  960240881      F   35          17  45014   \n",
       "\n",
       "         title  genres  \n",
       "5904      1987  Action  \n",
       "5911      1987  Action  \n",
       "5923      1987  Action  \n",
       "5924      1987  Action  \n",
       "5931      1987  Action  \n",
       "...        ...     ...  \n",
       "999815    1995  Action  \n",
       "1000049   1986  Action  \n",
       "1000050   1986  Action  \n",
       "1000193   1995  Action  \n",
       "1000201   1995  Action  \n",
       "\n",
       "[70728 rows x 10 columns]"
      ]
     },
     "execution_count": 10,
     "metadata": {},
     "output_type": "execute_result"
    }
   ],
   "source": [
    "def movieFilter(genre, rating_range):\n",
    "    rating_range = rating_range.lstrip (\"[\").rstrip (\"]\")\n",
    "    movies = data.loc[(data[\"genres\"] == genre) & (data[\"rating\"] >= float(rating_range.split(\",\")[0])) & (data[\"rating\"] <= float(rating_range.split(\",\")[1]))]\n",
    "    return movies\n",
    "\n",
    "movieFilter('Action','[3, 3.5]')"
   ]
  },
  {
   "cell_type": "markdown",
   "id": "2b89b52c",
   "metadata": {},
   "source": [
    "6. Present one other statistic, figure, aggregate, or plot that you created using this dataset, along with a short description of what interesting observations you derived from it. This question is meant to give you a freehand to explore and present aspects of the dataset that interests you."
   ]
  },
  {
   "cell_type": "code",
   "execution_count": 11,
   "id": "5a669925",
   "metadata": {},
   "outputs": [
    {
     "data": {
      "image/png": "[encoded data removed]",
      "text/plain": [
       "<Figure size 432x288 with 1 Axes>"
      ]
     },
     "metadata": {
      "needs_background": "light"
     },
     "output_type": "display_data"
    }
   ],
   "source": [
    "from matplotlib import pyplot as plt\n",
    "\n",
    "age_bins = [0, 10, 20, 30, 40, 50, 60, 70, 80, 90]\n",
    "data['age_range'] = pd.cut(x = data[\"age\"], bins = age_bins, labels=[\"0-9\",\"10-19\",\"20-29\",\"30-39\",\"40-49\",\"50-59\",\"60-69\",\"70-79\",\"80-89\"])\n",
    "x = [\"0-9\",\"10-19\",\"20-29\",\"30-39\",\"40-49\",\"50-59\",\"60-69\",\"70-79\",\"80-89\"]\n",
    "y = [data['age_range'].value_counts()[label] for label in x]\n",
    "plt.bar(x, y)\n",
    "plt.title(\"Distribution of users' ages\")\n",
    "plt.ylabel('The number of users')\n",
    "plt.xlabel('Age');\n",
    "plt.show()"
   ]
  },
  {
   "cell_type": "markdown",
   "id": "40e595f8",
   "metadata": {},
   "source": [
    "This is the distribution of users' ages. We can see that there is no data from people who are elder than 60 years old. And the largest amount of users were in the age group 20-29."
   ]
  }
 ],
 "metadata": {
  "kernelspec": {
   "display_name": "Python 3 (ipykernel)",
   "language": "python",
   "name": "python3"
  },
  "language_info": {
   "codemirror_mode": {
    "name": "ipython",
    "version": 3
   },
   "file_extension": ".py",
   "mimetype": "text/x-python",
   "name": "python",
   "nbconvert_exporter": "python",
   "pygments_lexer": "ipython3",
   "version": "3.9.7"
  }
 },
 "nbformat": 4,
 "nbformat_minor": 5
}
