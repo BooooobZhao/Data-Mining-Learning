{
 "cells": [
  {
   "cell_type": "markdown",
   "id": "6db07e73",
   "metadata": {},
   "source": [
    "# Model Evaluation"
   ]
  },
  {
   "cell_type": "markdown",
   "id": "50ef8302",
   "metadata": {},
   "source": [
    "I used a car evaluation dataset. It has 6 features and is to evaluates cars according to the features. The original dataset has four target variables: unacc, acc, good and vgood. I simply converted the unacc to 0 and the rest of them to 1."
   ]
  },
  {
   "cell_type": "code",
   "execution_count": 33,
   "id": "cf943323",
   "metadata": {},
   "outputs": [],
   "source": [
    "import pandas as pd\n",
    "import random\n",
    "from sklearn.model_selection import train_test_split\n",
    "from sklearn import tree\n",
    "from sklearn.tree import DecisionTreeClassifier\n",
    "from sklearn.tree import export_graphviz\n",
    "from sklearn.metrics import precision_score,recall_score,accuracy_score,confusion_matrix,roc_curve,classification_report,precision_recall_curve\n",
    "from graphviz import Source\n",
    "import graphviz\n",
    "from IPython.display import display,SVG\n",
    "import matplotlib.pyplot as plt\n",
    "random.seed(42)\n",
    "\n",
    "# Import dataset\n",
    "df = pd.read_csv('car_evaluation.csv')\n",
    "\n",
    "# Rename column names\n",
    "col_names = ['buying', 'maint', 'doors', 'persons', 'lug_boot', 'safety', 'class']\n",
    "df.columns = col_names\n",
    "\n",
    "# Split the features and target\n",
    "y = df['class']\n",
    "X_raw = df.drop('class', axis = 1)\n",
    "X = pd.get_dummies(X_raw)"
   ]
  },
  {
   "cell_type": "markdown",
   "id": "a5947580",
   "metadata": {},
   "source": [
    "## 1. Split the dataset into training set and test set (80, 20)"
   ]
  },
  {
   "cell_type": "code",
   "execution_count": 34,
   "id": "bc75b3c5",
   "metadata": {},
   "outputs": [],
   "source": [
    "# Split the dataset into training set and test set (80, 20)\n",
    "X_train, X_test, y_train, y_test = train_test_split(X, y, test_size = 0.2)"
   ]
  },
  {
   "cell_type": "markdown",
   "id": "61da0b55",
   "metadata": {},
   "source": [
    "## 2. Using scikit-learn’s DecisionTreeClassifier, train a supervised learning model that can be used to gnerate predictions for your data."
   ]
  },
  {
   "cell_type": "code",
   "execution_count": 35,
   "id": "d989e780",
   "metadata": {},
   "outputs": [],
   "source": [
    "# Import the classifier from sklearn\n",
    "model = DecisionTreeClassifier(max_depth = 6)\n",
    "model.fit(X_train,y_train)\n",
    "\n",
    "# Making predictions\n",
    "y_train_pred = model.predict(X_train)\n",
    "y_test_pred = model.predict(X_test)"
   ]
  },
  {
   "cell_type": "markdown",
   "id": "fe82ffb9",
   "metadata": {},
   "source": [
    "### 2.1. The accuracy of your model on the test data"
   ]
  },
  {
   "cell_type": "code",
   "execution_count": 36,
   "id": "36efbcfd",
   "metadata": {},
   "outputs": [
    {
     "name": "stdout",
     "output_type": "stream",
     "text": [
      "The accuracy is 0.9393063583815029\n"
     ]
    }
   ],
   "source": [
    "accuracy = accuracy_score(y_test, y_test_pred)\n",
    "print('The accuracy is', accuracy)"
   ]
  },
  {
   "cell_type": "markdown",
   "id": "6260b2e8",
   "metadata": {},
   "source": [
    "### 2.2. The precision and recall values"
   ]
  },
  {
   "cell_type": "code",
   "execution_count": 37,
   "id": "8d274821",
   "metadata": {},
   "outputs": [
    {
     "name": "stdout",
     "output_type": "stream",
     "text": [
      "The precision is 0.8532110091743119\n",
      "The recall is 0.9489795918367347\n"
     ]
    }
   ],
   "source": [
    "precision = precision_score(y_test, y_test_pred)\n",
    "print('The precision is', precision)\n",
    "recall = recall_score(y_test, y_test_pred)\n",
    "print('The recall is',recall)"
   ]
  },
  {
   "cell_type": "markdown",
   "id": "9dc19265",
   "metadata": {},
   "source": [
    "### 2.3. A classification report (scikit-learn has a function that can create this for you)"
   ]
  },
  {
   "cell_type": "code",
   "execution_count": 38,
   "id": "0d19ef58",
   "metadata": {},
   "outputs": [
    {
     "name": "stdout",
     "output_type": "stream",
     "text": [
      "The classification report is\n",
      "               precision    recall  f1-score   support\n",
      "\n",
      "           0       0.98      0.94      0.96       248\n",
      "           1       0.85      0.95      0.90        98\n",
      "\n",
      "    accuracy                           0.94       346\n",
      "   macro avg       0.92      0.94      0.93       346\n",
      "weighted avg       0.94      0.94      0.94       346\n",
      "\n"
     ]
    }
   ],
   "source": [
    "classification = classification_report(y_test, y_test_pred)\n",
    "print('The classification report is\\n',classification)"
   ]
  },
  {
   "cell_type": "markdown",
   "id": "82ce6af6",
   "metadata": {},
   "source": [
    "### 2.4. The confusion matrix for this experiment"
   ]
  },
  {
   "cell_type": "code",
   "execution_count": 39,
   "id": "0a610a86",
   "metadata": {},
   "outputs": [
    {
     "name": "stdout",
     "output_type": "stream",
     "text": [
      "The confusion matrix is\n",
      " [[232  16]\n",
      " [  5  93]]\n"
     ]
    }
   ],
   "source": [
    "confusion = confusion_matrix(y_test, y_test_pred)\n",
    "print('The confusion matrix is\\n',confusion)"
   ]
  },
  {
   "cell_type": "markdown",
   "id": "999cd4b5",
   "metadata": {},
   "source": [
    "### 2.5. An ROC curve"
   ]
  },
  {
   "cell_type": "code",
   "execution_count": 40,
   "id": "fbd8644c",
   "metadata": {},
   "outputs": [
    {
     "data": {
      "image/png": "[encoded data removed]",
      "text/plain": [
       "<Figure size 432x288 with 1 Axes>"
      ]
     },
     "metadata": {
      "needs_background": "light"
     },
     "output_type": "display_data"
    }
   ],
   "source": [
    "fpr, tpr, thersholds = roc_curve(y_test, y_test_pred)\n",
    "pre, rec, thresholds2 = precision_recall_curve(y_test, y_test_pred)\n",
    "\n",
    "plt.figure()\n",
    "plt.subplot(2,1,1)\n",
    "plt.plot(fpr, tpr)\n",
    "plt.xlabel('False Positive Rate')\n",
    "plt.ylabel('True Positive Rate')\n",
    "plt.title('ROC Curve')\n",
    "plt.show()"
   ]
  },
  {
   "cell_type": "markdown",
   "id": "29d22295",
   "metadata": {},
   "source": [
    "### 2.6. A Precision/Recall curve"
   ]
  },
  {
   "cell_type": "code",
   "execution_count": 41,
   "id": "5d110b13",
   "metadata": {},
   "outputs": [
    {
     "data": {
      "image/png": "[encoded data removed]",
      "text/plain": [
       "<Figure size 432x288 with 1 Axes>"
      ]
     },
     "metadata": {
      "needs_background": "light"
     },
     "output_type": "display_data"
    },
    {
     "data": {
      "image/svg+xml": [
       "<?xml version=\"1.0\" encoding=\"UTF-8\" standalone=\"no\"?>\r\n",
       "<!DOCTYPE svg PUBLIC \"-//W3C//DTD SVG 1.1//EN\"\r\n",
       " \"http://www.w3.org/Graphics/SVG/1.1/DTD/svg11.dtd\">\r\n",
       "<!-- Generated by graphviz version 2.38.0 (20140413.2041)\r\n",
       " -->\r\n",
       "<!-- Title: Tree Pages: 1 -->\r\n",
       "<svg width=\"1390pt\" height=\"685pt\"\r\n",
       " viewBox=\"0.00 0.00 1389.50 685.00\" xmlns=\"http://www.w3.org/2000/svg\" xmlns:xlink=\"http://www.w3.org/1999/xlink\">\r\n",
       "<g id=\"graph0\" class=\"graph\" transform=\"scale(1 1) rotate(0) translate(4 681)\">\r\n",
       "<title>Tree</title>\r\n",
       "<polygon fill=\"white\" stroke=\"none\" points=\"-4,4 -4,-681 1385.5,-681 1385.5,4 -4,4\"/>\r\n",
       "<!-- 0 -->\r\n",
       "<g id=\"node1\" class=\"node\"><title>0</title>\r\n",
       "<polygon fill=\"#f0b890\" stroke=\"black\" points=\"870,-677 752,-677 752,-609 870,-609 870,-677\"/>\r\n",
       "<text text-anchor=\"middle\" x=\"811\" y=\"-661.8\" font-family=\"Times New Roman,serif\" font-size=\"14.00\">X[19] &lt;= 0.5</text>\r\n",
       "<text text-anchor=\"middle\" x=\"811\" y=\"-646.8\" font-family=\"Times New Roman,serif\" font-size=\"14.00\">samples = 1381</text>\r\n",
       "<text text-anchor=\"middle\" x=\"811\" y=\"-631.8\" font-family=\"Times New Roman,serif\" font-size=\"14.00\">value = [961, 420]</text>\r\n",
       "<text text-anchor=\"middle\" x=\"811\" y=\"-616.8\" font-family=\"Times New Roman,serif\" font-size=\"14.00\">class = acc</text>\r\n",
       "</g>\r\n",
       "<!-- 1 -->\r\n",
       "<g id=\"node2\" class=\"node\"><title>1</title>\r\n",
       "<polygon fill=\"#fbebe0\" stroke=\"black\" points=\"806,-573 688,-573 688,-505 806,-505 806,-573\"/>\r\n",
       "<text text-anchor=\"middle\" x=\"747\" y=\"-557.8\" font-family=\"Times New Roman,serif\" font-size=\"14.00\">X[12] &lt;= 0.5</text>\r\n",
       "<text text-anchor=\"middle\" x=\"747\" y=\"-542.8\" font-family=\"Times New Roman,serif\" font-size=\"14.00\">samples = 917</text>\r\n",
       "<text text-anchor=\"middle\" x=\"747\" y=\"-527.8\" font-family=\"Times New Roman,serif\" font-size=\"14.00\">value = [497, 420]</text>\r\n",
       "<text text-anchor=\"middle\" x=\"747\" y=\"-512.8\" font-family=\"Times New Roman,serif\" font-size=\"14.00\">class = acc</text>\r\n",
       "</g>\r\n",
       "<!-- 0&#45;&gt;1 -->\r\n",
       "<g id=\"edge1\" class=\"edge\"><title>0&#45;&gt;1</title>\r\n",
       "<path fill=\"none\" stroke=\"black\" d=\"M790.221,-608.884C784.8,-600.243 778.887,-590.819 773.223,-581.793\"/>\r\n",
       "<polygon fill=\"black\" stroke=\"black\" points=\"776.173,-579.91 767.894,-573.299 770.244,-583.63 776.173,-579.91\"/>\r\n",
       "<text text-anchor=\"middle\" x=\"762.315\" y=\"-593.969\" font-family=\"Times New Roman,serif\" font-size=\"14.00\">True</text>\r\n",
       "</g>\r\n",
       "<!-- 30 -->\r\n",
       "<g id=\"node31\" class=\"node\"><title>30</title>\r\n",
       "<polygon fill=\"#e58139\" stroke=\"black\" points=\"928,-565.5 824,-565.5 824,-512.5 928,-512.5 928,-565.5\"/>\r\n",
       "<text text-anchor=\"middle\" x=\"876\" y=\"-550.3\" font-family=\"Times New Roman,serif\" font-size=\"14.00\">samples = 464</text>\r\n",
       "<text text-anchor=\"middle\" x=\"876\" y=\"-535.3\" font-family=\"Times New Roman,serif\" font-size=\"14.00\">value = [464, 0]</text>\r\n",
       "<text text-anchor=\"middle\" x=\"876\" y=\"-520.3\" font-family=\"Times New Roman,serif\" font-size=\"14.00\">class = acc</text>\r\n",
       "</g>\r\n",
       "<!-- 0&#45;&gt;30 -->\r\n",
       "<g id=\"edge30\" class=\"edge\"><title>0&#45;&gt;30</title>\r\n",
       "<path fill=\"none\" stroke=\"black\" d=\"M832.104,-608.884C839.182,-597.776 847.087,-585.372 854.216,-574.184\"/>\r\n",
       "<polygon fill=\"black\" stroke=\"black\" points=\"857.315,-575.834 859.737,-565.52 851.412,-572.072 857.315,-575.834\"/>\r\n",
       "<text text-anchor=\"middle\" x=\"865.145\" y=\"-586.228\" font-family=\"Times New Roman,serif\" font-size=\"14.00\">False</text>\r\n",
       "</g>\r\n",
       "<!-- 2 -->\r\n",
       "<g id=\"node3\" class=\"node\"><title>2</title>\r\n",
       "<polygon fill=\"#96cbf1\" stroke=\"black\" points=\"742,-469 624,-469 624,-401 742,-401 742,-469\"/>\r\n",
       "<text text-anchor=\"middle\" x=\"683\" y=\"-453.8\" font-family=\"Times New Roman,serif\" font-size=\"14.00\">X[7] &lt;= 0.5</text>\r\n",
       "<text text-anchor=\"middle\" x=\"683\" y=\"-438.8\" font-family=\"Times New Roman,serif\" font-size=\"14.00\">samples = 617</text>\r\n",
       "<text text-anchor=\"middle\" x=\"683\" y=\"-423.8\" font-family=\"Times New Roman,serif\" font-size=\"14.00\">value = [197, 420]</text>\r\n",
       "<text text-anchor=\"middle\" x=\"683\" y=\"-408.8\" font-family=\"Times New Roman,serif\" font-size=\"14.00\">class = unacc</text>\r\n",
       "</g>\r\n",
       "<!-- 1&#45;&gt;2 -->\r\n",
       "<g id=\"edge2\" class=\"edge\"><title>1&#45;&gt;2</title>\r\n",
       "<path fill=\"none\" stroke=\"black\" d=\"M726.221,-504.884C720.8,-496.243 714.887,-486.819 709.223,-477.793\"/>\r\n",
       "<polygon fill=\"black\" stroke=\"black\" points=\"712.173,-475.91 703.894,-469.299 706.244,-479.63 712.173,-475.91\"/>\r\n",
       "</g>\r\n",
       "<!-- 29 -->\r\n",
       "<g id=\"node30\" class=\"node\"><title>29</title>\r\n",
       "<polygon fill=\"#e58139\" stroke=\"black\" points=\"864,-461.5 760,-461.5 760,-408.5 864,-408.5 864,-461.5\"/>\r\n",
       "<text text-anchor=\"middle\" x=\"812\" y=\"-446.3\" font-family=\"Times New Roman,serif\" font-size=\"14.00\">samples = 300</text>\r\n",
       "<text text-anchor=\"middle\" x=\"812\" y=\"-431.3\" font-family=\"Times New Roman,serif\" font-size=\"14.00\">value = [300, 0]</text>\r\n",
       "<text text-anchor=\"middle\" x=\"812\" y=\"-416.3\" font-family=\"Times New Roman,serif\" font-size=\"14.00\">class = acc</text>\r\n",
       "</g>\r\n",
       "<!-- 1&#45;&gt;29 -->\r\n",
       "<g id=\"edge29\" class=\"edge\"><title>1&#45;&gt;29</title>\r\n",
       "<path fill=\"none\" stroke=\"black\" d=\"M768.104,-504.884C775.182,-493.776 783.087,-481.372 790.216,-470.184\"/>\r\n",
       "<polygon fill=\"black\" stroke=\"black\" points=\"793.315,-471.834 795.737,-461.52 787.412,-468.072 793.315,-471.834\"/>\r\n",
       "</g>\r\n",
       "<!-- 3 -->\r\n",
       "<g id=\"node4\" class=\"node\"><title>3</title>\r\n",
       "<polygon fill=\"#71b9ec\" stroke=\"black\" points=\"651,-365 533,-365 533,-297 651,-297 651,-365\"/>\r\n",
       "<text text-anchor=\"middle\" x=\"592\" y=\"-349.8\" font-family=\"Times New Roman,serif\" font-size=\"14.00\">X[3] &lt;= 0.5</text>\r\n",
       "<text text-anchor=\"middle\" x=\"592\" y=\"-334.8\" font-family=\"Times New Roman,serif\" font-size=\"14.00\">samples = 469</text>\r\n",
       "<text text-anchor=\"middle\" x=\"592\" y=\"-319.8\" font-family=\"Times New Roman,serif\" font-size=\"14.00\">value = [103, 366]</text>\r\n",
       "<text text-anchor=\"middle\" x=\"592\" y=\"-304.8\" font-family=\"Times New Roman,serif\" font-size=\"14.00\">class = unacc</text>\r\n",
       "</g>\r\n",
       "<!-- 2&#45;&gt;3 -->\r\n",
       "<g id=\"edge3\" class=\"edge\"><title>2&#45;&gt;3</title>\r\n",
       "<path fill=\"none\" stroke=\"black\" d=\"M653.455,-400.884C645.508,-391.976 636.818,-382.235 628.54,-372.957\"/>\r\n",
       "<polygon fill=\"black\" stroke=\"black\" points=\"630.977,-370.431 621.708,-365.299 625.754,-375.091 630.977,-370.431\"/>\r\n",
       "</g>\r\n",
       "<!-- 16 -->\r\n",
       "<g id=\"node17\" class=\"node\"><title>16</title>\r\n",
       "<polygon fill=\"#f4c9ab\" stroke=\"black\" points=\"827,-365 723,-365 723,-297 827,-297 827,-365\"/>\r\n",
       "<text text-anchor=\"middle\" x=\"775\" y=\"-349.8\" font-family=\"Times New Roman,serif\" font-size=\"14.00\">X[2] &lt;= 0.5</text>\r\n",
       "<text text-anchor=\"middle\" x=\"775\" y=\"-334.8\" font-family=\"Times New Roman,serif\" font-size=\"14.00\">samples = 148</text>\r\n",
       "<text text-anchor=\"middle\" x=\"775\" y=\"-319.8\" font-family=\"Times New Roman,serif\" font-size=\"14.00\">value = [94, 54]</text>\r\n",
       "<text text-anchor=\"middle\" x=\"775\" y=\"-304.8\" font-family=\"Times New Roman,serif\" font-size=\"14.00\">class = acc</text>\r\n",
       "</g>\r\n",
       "<!-- 2&#45;&gt;16 -->\r\n",
       "<g id=\"edge16\" class=\"edge\"><title>2&#45;&gt;16</title>\r\n",
       "<path fill=\"none\" stroke=\"black\" d=\"M712.87,-400.884C720.904,-391.976 729.69,-382.235 738.059,-372.957\"/>\r\n",
       "<polygon fill=\"black\" stroke=\"black\" points=\"740.867,-375.069 744.965,-365.299 735.669,-370.381 740.867,-375.069\"/>\r\n",
       "</g>\r\n",
       "<!-- 4 -->\r\n",
       "<g id=\"node5\" class=\"node\"><title>4</title>\r\n",
       "<polygon fill=\"#57ace9\" stroke=\"black\" points=\"466.5,-261 355.5,-261 355.5,-193 466.5,-193 466.5,-261\"/>\r\n",
       "<text text-anchor=\"middle\" x=\"411\" y=\"-245.8\" font-family=\"Times New Roman,serif\" font-size=\"14.00\">X[17] &lt;= 0.5</text>\r\n",
       "<text text-anchor=\"middle\" x=\"411\" y=\"-230.8\" font-family=\"Times New Roman,serif\" font-size=\"14.00\">samples = 354</text>\r\n",
       "<text text-anchor=\"middle\" x=\"411\" y=\"-215.8\" font-family=\"Times New Roman,serif\" font-size=\"14.00\">value = [46, 308]</text>\r\n",
       "<text text-anchor=\"middle\" x=\"411\" y=\"-200.8\" font-family=\"Times New Roman,serif\" font-size=\"14.00\">class = unacc</text>\r\n",
       "</g>\r\n",
       "<!-- 3&#45;&gt;4 -->\r\n",
       "<g id=\"edge4\" class=\"edge\"><title>3&#45;&gt;4</title>\r\n",
       "<path fill=\"none\" stroke=\"black\" d=\"M533.234,-296.884C514.788,-286.488 494.328,-274.959 475.507,-264.352\"/>\r\n",
       "<polygon fill=\"black\" stroke=\"black\" points=\"477.133,-261.251 466.703,-259.391 473.696,-267.349 477.133,-261.251\"/>\r\n",
       "</g>\r\n",
       "<!-- 11 -->\r\n",
       "<g id=\"node12\" class=\"node\"><title>11</title>\r\n",
       "<polygon fill=\"#fcfdff\" stroke=\"black\" points=\"644,-261 540,-261 540,-193 644,-193 644,-261\"/>\r\n",
       "<text text-anchor=\"middle\" x=\"592\" y=\"-245.8\" font-family=\"Times New Roman,serif\" font-size=\"14.00\">X[4] &lt;= 0.5</text>\r\n",
       "<text text-anchor=\"middle\" x=\"592\" y=\"-230.8\" font-family=\"Times New Roman,serif\" font-size=\"14.00\">samples = 115</text>\r\n",
       "<text text-anchor=\"middle\" x=\"592\" y=\"-215.8\" font-family=\"Times New Roman,serif\" font-size=\"14.00\">value = [57, 58]</text>\r\n",
       "<text text-anchor=\"middle\" x=\"592\" y=\"-200.8\" font-family=\"Times New Roman,serif\" font-size=\"14.00\">class = unacc</text>\r\n",
       "</g>\r\n",
       "<!-- 3&#45;&gt;11 -->\r\n",
       "<g id=\"edge11\" class=\"edge\"><title>3&#45;&gt;11</title>\r\n",
       "<path fill=\"none\" stroke=\"black\" d=\"M592,-296.884C592,-288.778 592,-279.982 592,-271.472\"/>\r\n",
       "<polygon fill=\"black\" stroke=\"black\" points=\"595.5,-271.299 592,-261.299 588.5,-271.299 595.5,-271.299\"/>\r\n",
       "</g>\r\n",
       "<!-- 5 -->\r\n",
       "<g id=\"node6\" class=\"node\"><title>5</title>\r\n",
       "<polygon fill=\"#3fa0e6\" stroke=\"black\" points=\"223,-157 119,-157 119,-89 223,-89 223,-157\"/>\r\n",
       "<text text-anchor=\"middle\" x=\"171\" y=\"-141.8\" font-family=\"Times New Roman,serif\" font-size=\"14.00\">X[0] &lt;= 0.5</text>\r\n",
       "<text text-anchor=\"middle\" x=\"171\" y=\"-126.8\" font-family=\"Times New Roman,serif\" font-size=\"14.00\">samples = 230</text>\r\n",
       "<text text-anchor=\"middle\" x=\"171\" y=\"-111.8\" font-family=\"Times New Roman,serif\" font-size=\"14.00\">value = [7, 223]</text>\r\n",
       "<text text-anchor=\"middle\" x=\"171\" y=\"-96.8\" font-family=\"Times New Roman,serif\" font-size=\"14.00\">class = unacc</text>\r\n",
       "</g>\r\n",
       "<!-- 4&#45;&gt;5 -->\r\n",
       "<g id=\"edge5\" class=\"edge\"><title>4&#45;&gt;5</title>\r\n",
       "<path fill=\"none\" stroke=\"black\" d=\"M355.336,-202.343C318.571,-186.718 270.368,-166.231 232.475,-150.127\"/>\r\n",
       "<polygon fill=\"black\" stroke=\"black\" points=\"233.649,-146.823 223.076,-146.132 230.911,-153.265 233.649,-146.823\"/>\r\n",
       "</g>\r\n",
       "<!-- 8 -->\r\n",
       "<g id=\"node9\" class=\"node\"><title>8</title>\r\n",
       "<polygon fill=\"#94caf1\" stroke=\"black\" points=\"463,-157 359,-157 359,-89 463,-89 463,-157\"/>\r\n",
       "<text text-anchor=\"middle\" x=\"411\" y=\"-141.8\" font-family=\"Times New Roman,serif\" font-size=\"14.00\">X[8] &lt;= 0.5</text>\r\n",
       "<text text-anchor=\"middle\" x=\"411\" y=\"-126.8\" font-family=\"Times New Roman,serif\" font-size=\"14.00\">samples = 124</text>\r\n",
       "<text text-anchor=\"middle\" x=\"411\" y=\"-111.8\" font-family=\"Times New Roman,serif\" font-size=\"14.00\">value = [39, 85]</text>\r\n",
       "<text text-anchor=\"middle\" x=\"411\" y=\"-96.8\" font-family=\"Times New Roman,serif\" font-size=\"14.00\">class = unacc</text>\r\n",
       "</g>\r\n",
       "<!-- 4&#45;&gt;8 -->\r\n",
       "<g id=\"edge8\" class=\"edge\"><title>4&#45;&gt;8</title>\r\n",
       "<path fill=\"none\" stroke=\"black\" d=\"M411,-192.884C411,-184.778 411,-175.982 411,-167.472\"/>\r\n",
       "<polygon fill=\"black\" stroke=\"black\" points=\"414.5,-167.299 411,-157.299 407.5,-167.299 414.5,-167.299\"/>\r\n",
       "</g>\r\n",
       "<!-- 6 -->\r\n",
       "<g id=\"node7\" class=\"node\"><title>6</title>\r\n",
       "<polygon fill=\"#3a9ee5\" stroke=\"black\" points=\"104,-53 0,-53 0,-0 104,-0 104,-53\"/>\r\n",
       "<text text-anchor=\"middle\" x=\"52\" y=\"-37.8\" font-family=\"Times New Roman,serif\" font-size=\"14.00\">samples = 150</text>\r\n",
       "<text text-anchor=\"middle\" x=\"52\" y=\"-22.8\" font-family=\"Times New Roman,serif\" font-size=\"14.00\">value = [1, 149]</text>\r\n",
       "<text text-anchor=\"middle\" x=\"52\" y=\"-7.8\" font-family=\"Times New Roman,serif\" font-size=\"14.00\">class = unacc</text>\r\n",
       "</g>\r\n",
       "<!-- 5&#45;&gt;6 -->\r\n",
       "<g id=\"edge6\" class=\"edge\"><title>5&#45;&gt;6</title>\r\n",
       "<path fill=\"none\" stroke=\"black\" d=\"M129.38,-88.9485C117.399,-79.4346 104.352,-69.074 92.4443,-59.6175\"/>\r\n",
       "<polygon fill=\"black\" stroke=\"black\" points=\"94.4169,-56.7147 84.4092,-53.2367 90.0637,-62.1965 94.4169,-56.7147\"/>\r\n",
       "</g>\r\n",
       "<!-- 7 -->\r\n",
       "<g id=\"node8\" class=\"node\"><title>7</title>\r\n",
       "<polygon fill=\"#49a5e7\" stroke=\"black\" points=\"220,-53 122,-53 122,-0 220,-0 220,-53\"/>\r\n",
       "<text text-anchor=\"middle\" x=\"171\" y=\"-37.8\" font-family=\"Times New Roman,serif\" font-size=\"14.00\">samples = 80</text>\r\n",
       "<text text-anchor=\"middle\" x=\"171\" y=\"-22.8\" font-family=\"Times New Roman,serif\" font-size=\"14.00\">value = [6, 74]</text>\r\n",
       "<text text-anchor=\"middle\" x=\"171\" y=\"-7.8\" font-family=\"Times New Roman,serif\" font-size=\"14.00\">class = unacc</text>\r\n",
       "</g>\r\n",
       "<!-- 5&#45;&gt;7 -->\r\n",
       "<g id=\"edge7\" class=\"edge\"><title>5&#45;&gt;7</title>\r\n",
       "<path fill=\"none\" stroke=\"black\" d=\"M171,-88.9485C171,-80.7153 171,-71.848 171,-63.4814\"/>\r\n",
       "<polygon fill=\"black\" stroke=\"black\" points=\"174.5,-63.2367 171,-53.2367 167.5,-63.2367 174.5,-63.2367\"/>\r\n",
       "</g>\r\n",
       "<!-- 9 -->\r\n",
       "<g id=\"node10\" class=\"node\"><title>9</title>\r\n",
       "<polygon fill=\"#6db7ec\" stroke=\"black\" points=\"342,-53 238,-53 238,-0 342,-0 342,-53\"/>\r\n",
       "<text text-anchor=\"middle\" x=\"290\" y=\"-37.8\" font-family=\"Times New Roman,serif\" font-size=\"14.00\">samples = 92</text>\r\n",
       "<text text-anchor=\"middle\" x=\"290\" y=\"-22.8\" font-family=\"Times New Roman,serif\" font-size=\"14.00\">value = [19, 73]</text>\r\n",
       "<text text-anchor=\"middle\" x=\"290\" y=\"-7.8\" font-family=\"Times New Roman,serif\" font-size=\"14.00\">class = unacc</text>\r\n",
       "</g>\r\n",
       "<!-- 8&#45;&gt;9 -->\r\n",
       "<g id=\"edge9\" class=\"edge\"><title>8&#45;&gt;9</title>\r\n",
       "<path fill=\"none\" stroke=\"black\" d=\"M368.68,-88.9485C356.498,-79.4346 343.232,-69.074 331.124,-59.6175\"/>\r\n",
       "<polygon fill=\"black\" stroke=\"black\" points=\"332.989,-56.6335 322.954,-53.2367 328.681,-62.1504 332.989,-56.6335\"/>\r\n",
       "</g>\r\n",
       "<!-- 10 -->\r\n",
       "<g id=\"node11\" class=\"node\"><title>10</title>\r\n",
       "<polygon fill=\"#f5cdb0\" stroke=\"black\" points=\"464,-53 360,-53 360,-0 464,-0 464,-53\"/>\r\n",
       "<text text-anchor=\"middle\" x=\"412\" y=\"-37.8\" font-family=\"Times New Roman,serif\" font-size=\"14.00\">samples = 32</text>\r\n",
       "<text text-anchor=\"middle\" x=\"412\" y=\"-22.8\" font-family=\"Times New Roman,serif\" font-size=\"14.00\">value = [20, 12]</text>\r\n",
       "<text text-anchor=\"middle\" x=\"412\" y=\"-7.8\" font-family=\"Times New Roman,serif\" font-size=\"14.00\">class = acc</text>\r\n",
       "</g>\r\n",
       "<!-- 8&#45;&gt;10 -->\r\n",
       "<g id=\"edge10\" class=\"edge\"><title>8&#45;&gt;10</title>\r\n",
       "<path fill=\"none\" stroke=\"black\" d=\"M411.35,-88.9485C411.437,-80.7153 411.531,-71.848 411.619,-63.4814\"/>\r\n",
       "<polygon fill=\"black\" stroke=\"black\" points=\"415.122,-63.2732 411.728,-53.2367 408.122,-63.1991 415.122,-63.2732\"/>\r\n",
       "</g>\r\n",
       "<!-- 12 -->\r\n",
       "<g id=\"node13\" class=\"node\"><title>12</title>\r\n",
       "<polygon fill=\"#7abdee\" stroke=\"black\" points=\"585,-157 481,-157 481,-89 585,-89 585,-157\"/>\r\n",
       "<text text-anchor=\"middle\" x=\"533\" y=\"-141.8\" font-family=\"Times New Roman,serif\" font-size=\"14.00\">X[17] &lt;= 0.5</text>\r\n",
       "<text text-anchor=\"middle\" x=\"533\" y=\"-126.8\" font-family=\"Times New Roman,serif\" font-size=\"14.00\">samples = 77</text>\r\n",
       "<text text-anchor=\"middle\" x=\"533\" y=\"-111.8\" font-family=\"Times New Roman,serif\" font-size=\"14.00\">value = [19, 58]</text>\r\n",
       "<text text-anchor=\"middle\" x=\"533\" y=\"-96.8\" font-family=\"Times New Roman,serif\" font-size=\"14.00\">class = unacc</text>\r\n",
       "</g>\r\n",
       "<!-- 11&#45;&gt;12 -->\r\n",
       "<g id=\"edge12\" class=\"edge\"><title>11&#45;&gt;12</title>\r\n",
       "<path fill=\"none\" stroke=\"black\" d=\"M572.844,-192.884C567.898,-184.332 562.508,-175.013 557.336,-166.072\"/>\r\n",
       "<polygon fill=\"black\" stroke=\"black\" points=\"560.298,-164.203 552.261,-157.299 554.239,-167.708 560.298,-164.203\"/>\r\n",
       "</g>\r\n",
       "<!-- 15 -->\r\n",
       "<g id=\"node16\" class=\"node\"><title>15</title>\r\n",
       "<polygon fill=\"#e58139\" stroke=\"black\" points=\"701,-149.5 603,-149.5 603,-96.5 701,-96.5 701,-149.5\"/>\r\n",
       "<text text-anchor=\"middle\" x=\"652\" y=\"-134.3\" font-family=\"Times New Roman,serif\" font-size=\"14.00\">samples = 38</text>\r\n",
       "<text text-anchor=\"middle\" x=\"652\" y=\"-119.3\" font-family=\"Times New Roman,serif\" font-size=\"14.00\">value = [38, 0]</text>\r\n",
       "<text text-anchor=\"middle\" x=\"652\" y=\"-104.3\" font-family=\"Times New Roman,serif\" font-size=\"14.00\">class = acc</text>\r\n",
       "</g>\r\n",
       "<!-- 11&#45;&gt;15 -->\r\n",
       "<g id=\"edge15\" class=\"edge\"><title>11&#45;&gt;15</title>\r\n",
       "<path fill=\"none\" stroke=\"black\" d=\"M611.48,-192.884C618.014,-181.776 625.311,-169.372 631.892,-158.184\"/>\r\n",
       "<polygon fill=\"black\" stroke=\"black\" points=\"634.935,-159.914 636.988,-149.52 628.901,-156.365 634.935,-159.914\"/>\r\n",
       "</g>\r\n",
       "<!-- 13 -->\r\n",
       "<g id=\"node14\" class=\"node\"><title>13</title>\r\n",
       "<polygon fill=\"#46a3e7\" stroke=\"black\" points=\"580,-53 482,-53 482,-0 580,-0 580,-53\"/>\r\n",
       "<text text-anchor=\"middle\" x=\"531\" y=\"-37.8\" font-family=\"Times New Roman,serif\" font-size=\"14.00\">samples = 50</text>\r\n",
       "<text text-anchor=\"middle\" x=\"531\" y=\"-22.8\" font-family=\"Times New Roman,serif\" font-size=\"14.00\">value = [3, 47]</text>\r\n",
       "<text text-anchor=\"middle\" x=\"531\" y=\"-7.8\" font-family=\"Times New Roman,serif\" font-size=\"14.00\">class = unacc</text>\r\n",
       "</g>\r\n",
       "<!-- 12&#45;&gt;13 -->\r\n",
       "<g id=\"edge13\" class=\"edge\"><title>12&#45;&gt;13</title>\r\n",
       "<path fill=\"none\" stroke=\"black\" d=\"M532.3,-88.9485C532.126,-80.7153 531.939,-71.848 531.762,-63.4814\"/>\r\n",
       "<polygon fill=\"black\" stroke=\"black\" points=\"535.256,-63.1604 531.545,-53.2367 528.257,-63.3086 535.256,-63.1604\"/>\r\n",
       "</g>\r\n",
       "<!-- 14 -->\r\n",
       "<g id=\"node15\" class=\"node\"><title>14</title>\r\n",
       "<polygon fill=\"#f7d8c1\" stroke=\"black\" points=\"702,-53 598,-53 598,-0 702,-0 702,-53\"/>\r\n",
       "<text text-anchor=\"middle\" x=\"650\" y=\"-37.8\" font-family=\"Times New Roman,serif\" font-size=\"14.00\">samples = 27</text>\r\n",
       "<text text-anchor=\"middle\" x=\"650\" y=\"-22.8\" font-family=\"Times New Roman,serif\" font-size=\"14.00\">value = [16, 11]</text>\r\n",
       "<text text-anchor=\"middle\" x=\"650\" y=\"-7.8\" font-family=\"Times New Roman,serif\" font-size=\"14.00\">class = acc</text>\r\n",
       "</g>\r\n",
       "<!-- 12&#45;&gt;14 -->\r\n",
       "<g id=\"edge14\" class=\"edge\"><title>12&#45;&gt;14</title>\r\n",
       "<path fill=\"none\" stroke=\"black\" d=\"M573.921,-88.9485C585.7,-79.4346 598.527,-69.074 610.235,-59.6175\"/>\r\n",
       "<polygon fill=\"black\" stroke=\"black\" points=\"612.555,-62.2429 618.136,-53.2367 608.157,-56.7973 612.555,-62.2429\"/>\r\n",
       "</g>\r\n",
       "<!-- 17 -->\r\n",
       "<g id=\"node18\" class=\"node\"><title>17</title>\r\n",
       "<polygon fill=\"#eda978\" stroke=\"black\" points=\"827,-261 723,-261 723,-193 827,-193 827,-261\"/>\r\n",
       "<text text-anchor=\"middle\" x=\"775\" y=\"-245.8\" font-family=\"Times New Roman,serif\" font-size=\"14.00\">X[1] &lt;= 0.5</text>\r\n",
       "<text text-anchor=\"middle\" x=\"775\" y=\"-230.8\" font-family=\"Times New Roman,serif\" font-size=\"14.00\">samples = 112</text>\r\n",
       "<text text-anchor=\"middle\" x=\"775\" y=\"-215.8\" font-family=\"Times New Roman,serif\" font-size=\"14.00\">value = [85, 27]</text>\r\n",
       "<text text-anchor=\"middle\" x=\"775\" y=\"-200.8\" font-family=\"Times New Roman,serif\" font-size=\"14.00\">class = acc</text>\r\n",
       "</g>\r\n",
       "<!-- 16&#45;&gt;17 -->\r\n",
       "<g id=\"edge17\" class=\"edge\"><title>16&#45;&gt;17</title>\r\n",
       "<path fill=\"none\" stroke=\"black\" d=\"M775,-296.884C775,-288.778 775,-279.982 775,-271.472\"/>\r\n",
       "<polygon fill=\"black\" stroke=\"black\" points=\"778.5,-271.299 775,-261.299 771.5,-271.299 778.5,-271.299\"/>\r\n",
       "</g>\r\n",
       "<!-- 22 -->\r\n",
       "<g id=\"node23\" class=\"node\"><title>22</title>\r\n",
       "<polygon fill=\"#7bbeee\" stroke=\"black\" points=\"1050,-261 952,-261 952,-193 1050,-193 1050,-261\"/>\r\n",
       "<text text-anchor=\"middle\" x=\"1001\" y=\"-245.8\" font-family=\"Times New Roman,serif\" font-size=\"14.00\">X[17] &lt;= 0.5</text>\r\n",
       "<text text-anchor=\"middle\" x=\"1001\" y=\"-230.8\" font-family=\"Times New Roman,serif\" font-size=\"14.00\">samples = 36</text>\r\n",
       "<text text-anchor=\"middle\" x=\"1001\" y=\"-215.8\" font-family=\"Times New Roman,serif\" font-size=\"14.00\">value = [9, 27]</text>\r\n",
       "<text text-anchor=\"middle\" x=\"1001\" y=\"-200.8\" font-family=\"Times New Roman,serif\" font-size=\"14.00\">class = unacc</text>\r\n",
       "</g>\r\n",
       "<!-- 16&#45;&gt;22 -->\r\n",
       "<g id=\"edge22\" class=\"edge\"><title>16&#45;&gt;22</title>\r\n",
       "<path fill=\"none\" stroke=\"black\" d=\"M827.133,-306.471C861.596,-290.917 906.826,-270.503 942.515,-254.396\"/>\r\n",
       "<polygon fill=\"black\" stroke=\"black\" points=\"944.165,-257.491 951.839,-250.187 941.285,-251.111 944.165,-257.491\"/>\r\n",
       "</g>\r\n",
       "<!-- 18 -->\r\n",
       "<g id=\"node19\" class=\"node\"><title>18</title>\r\n",
       "<polygon fill=\"#e58139\" stroke=\"black\" points=\"818,-149.5 720,-149.5 720,-96.5 818,-96.5 818,-149.5\"/>\r\n",
       "<text text-anchor=\"middle\" x=\"769\" y=\"-134.3\" font-family=\"Times New Roman,serif\" font-size=\"14.00\">samples = 76</text>\r\n",
       "<text text-anchor=\"middle\" x=\"769\" y=\"-119.3\" font-family=\"Times New Roman,serif\" font-size=\"14.00\">value = [76, 0]</text>\r\n",
       "<text text-anchor=\"middle\" x=\"769\" y=\"-104.3\" font-family=\"Times New Roman,serif\" font-size=\"14.00\">class = acc</text>\r\n",
       "</g>\r\n",
       "<!-- 17&#45;&gt;18 -->\r\n",
       "<g id=\"edge18\" class=\"edge\"><title>17&#45;&gt;18</title>\r\n",
       "<path fill=\"none\" stroke=\"black\" d=\"M773.052,-192.884C772.424,-182.216 771.727,-170.352 771.089,-159.519\"/>\r\n",
       "<polygon fill=\"black\" stroke=\"black\" points=\"774.582,-159.297 770.501,-149.52 767.595,-159.708 774.582,-159.297\"/>\r\n",
       "</g>\r\n",
       "<!-- 19 -->\r\n",
       "<g id=\"node20\" class=\"node\"><title>19</title>\r\n",
       "<polygon fill=\"#7bbeee\" stroke=\"black\" points=\"934,-157 836,-157 836,-89 934,-89 934,-157\"/>\r\n",
       "<text text-anchor=\"middle\" x=\"885\" y=\"-141.8\" font-family=\"Times New Roman,serif\" font-size=\"14.00\">X[20] &lt;= 0.5</text>\r\n",
       "<text text-anchor=\"middle\" x=\"885\" y=\"-126.8\" font-family=\"Times New Roman,serif\" font-size=\"14.00\">samples = 36</text>\r\n",
       "<text text-anchor=\"middle\" x=\"885\" y=\"-111.8\" font-family=\"Times New Roman,serif\" font-size=\"14.00\">value = [9, 27]</text>\r\n",
       "<text text-anchor=\"middle\" x=\"885\" y=\"-96.8\" font-family=\"Times New Roman,serif\" font-size=\"14.00\">class = unacc</text>\r\n",
       "</g>\r\n",
       "<!-- 17&#45;&gt;19 -->\r\n",
       "<g id=\"edge19\" class=\"edge\"><title>17&#45;&gt;19</title>\r\n",
       "<path fill=\"none\" stroke=\"black\" d=\"M810.714,-192.884C820.608,-183.709 831.456,-173.65 841.73,-164.123\"/>\r\n",
       "<polygon fill=\"black\" stroke=\"black\" points=\"844.136,-166.665 849.089,-157.299 839.376,-161.532 844.136,-166.665\"/>\r\n",
       "</g>\r\n",
       "<!-- 20 -->\r\n",
       "<g id=\"node21\" class=\"node\"><title>20</title>\r\n",
       "<polygon fill=\"#399de5\" stroke=\"black\" points=\"818,-53 720,-53 720,-0 818,-0 818,-53\"/>\r\n",
       "<text text-anchor=\"middle\" x=\"769\" y=\"-37.8\" font-family=\"Times New Roman,serif\" font-size=\"14.00\">samples = 17</text>\r\n",
       "<text text-anchor=\"middle\" x=\"769\" y=\"-22.8\" font-family=\"Times New Roman,serif\" font-size=\"14.00\">value = [0, 17]</text>\r\n",
       "<text text-anchor=\"middle\" x=\"769\" y=\"-7.8\" font-family=\"Times New Roman,serif\" font-size=\"14.00\">class = unacc</text>\r\n",
       "</g>\r\n",
       "<!-- 19&#45;&gt;20 -->\r\n",
       "<g id=\"edge20\" class=\"edge\"><title>19&#45;&gt;20</title>\r\n",
       "<path fill=\"none\" stroke=\"black\" d=\"M844.429,-88.9485C832.75,-79.4346 820.033,-69.074 808.425,-59.6175\"/>\r\n",
       "<polygon fill=\"black\" stroke=\"black\" points=\"810.556,-56.8392 800.592,-53.2367 806.135,-62.2663 810.556,-56.8392\"/>\r\n",
       "</g>\r\n",
       "<!-- 21 -->\r\n",
       "<g id=\"node22\" class=\"node\"><title>21</title>\r\n",
       "<polygon fill=\"#ebf5fc\" stroke=\"black\" points=\"934,-53 836,-53 836,-0 934,-0 934,-53\"/>\r\n",
       "<text text-anchor=\"middle\" x=\"885\" y=\"-37.8\" font-family=\"Times New Roman,serif\" font-size=\"14.00\">samples = 19</text>\r\n",
       "<text text-anchor=\"middle\" x=\"885\" y=\"-22.8\" font-family=\"Times New Roman,serif\" font-size=\"14.00\">value = [9, 10]</text>\r\n",
       "<text text-anchor=\"middle\" x=\"885\" y=\"-7.8\" font-family=\"Times New Roman,serif\" font-size=\"14.00\">class = unacc</text>\r\n",
       "</g>\r\n",
       "<!-- 19&#45;&gt;21 -->\r\n",
       "<g id=\"edge21\" class=\"edge\"><title>19&#45;&gt;21</title>\r\n",
       "<path fill=\"none\" stroke=\"black\" d=\"M885,-88.9485C885,-80.7153 885,-71.848 885,-63.4814\"/>\r\n",
       "<polygon fill=\"black\" stroke=\"black\" points=\"888.5,-63.2367 885,-53.2367 881.5,-63.2367 888.5,-63.2367\"/>\r\n",
       "</g>\r\n",
       "<!-- 23 -->\r\n",
       "<g id=\"node24\" class=\"node\"><title>23</title>\r\n",
       "<polygon fill=\"#53aae8\" stroke=\"black\" points=\"1050,-157 952,-157 952,-89 1050,-89 1050,-157\"/>\r\n",
       "<text text-anchor=\"middle\" x=\"1001\" y=\"-141.8\" font-family=\"Times New Roman,serif\" font-size=\"14.00\">X[8] &lt;= 0.5</text>\r\n",
       "<text text-anchor=\"middle\" x=\"1001\" y=\"-126.8\" font-family=\"Times New Roman,serif\" font-size=\"14.00\">samples = 26</text>\r\n",
       "<text text-anchor=\"middle\" x=\"1001\" y=\"-111.8\" font-family=\"Times New Roman,serif\" font-size=\"14.00\">value = [3, 23]</text>\r\n",
       "<text text-anchor=\"middle\" x=\"1001\" y=\"-96.8\" font-family=\"Times New Roman,serif\" font-size=\"14.00\">class = unacc</text>\r\n",
       "</g>\r\n",
       "<!-- 22&#45;&gt;23 -->\r\n",
       "<g id=\"edge23\" class=\"edge\"><title>22&#45;&gt;23</title>\r\n",
       "<path fill=\"none\" stroke=\"black\" d=\"M1001,-192.884C1001,-184.778 1001,-175.982 1001,-167.472\"/>\r\n",
       "<polygon fill=\"black\" stroke=\"black\" points=\"1004.5,-167.299 1001,-157.299 997.5,-167.299 1004.5,-167.299\"/>\r\n",
       "</g>\r\n",
       "<!-- 26 -->\r\n",
       "<g id=\"node27\" class=\"node\"><title>26</title>\r\n",
       "<polygon fill=\"#f6d5bd\" stroke=\"black\" points=\"1271.5,-157 1180.5,-157 1180.5,-89 1271.5,-89 1271.5,-157\"/>\r\n",
       "<text text-anchor=\"middle\" x=\"1226\" y=\"-141.8\" font-family=\"Times New Roman,serif\" font-size=\"14.00\">X[20] &lt;= 0.5</text>\r\n",
       "<text text-anchor=\"middle\" x=\"1226\" y=\"-126.8\" font-family=\"Times New Roman,serif\" font-size=\"14.00\">samples = 10</text>\r\n",
       "<text text-anchor=\"middle\" x=\"1226\" y=\"-111.8\" font-family=\"Times New Roman,serif\" font-size=\"14.00\">value = [6, 4]</text>\r\n",
       "<text text-anchor=\"middle\" x=\"1226\" y=\"-96.8\" font-family=\"Times New Roman,serif\" font-size=\"14.00\">class = acc</text>\r\n",
       "</g>\r\n",
       "<!-- 22&#45;&gt;26 -->\r\n",
       "<g id=\"edge26\" class=\"edge\"><title>22&#45;&gt;26</title>\r\n",
       "<path fill=\"none\" stroke=\"black\" d=\"M1050.1,-203.742C1085.86,-187.53 1134.31,-165.566 1171.31,-148.794\"/>\r\n",
       "<polygon fill=\"black\" stroke=\"black\" points=\"1172.79,-151.965 1180.45,-144.648 1169.9,-145.589 1172.79,-151.965\"/>\r\n",
       "</g>\r\n",
       "<!-- 24 -->\r\n",
       "<g id=\"node25\" class=\"node\"><title>24</title>\r\n",
       "<polygon fill=\"#43a2e6\" stroke=\"black\" points=\"1050,-53 952,-53 952,-0 1050,-0 1050,-53\"/>\r\n",
       "<text text-anchor=\"middle\" x=\"1001\" y=\"-37.8\" font-family=\"Times New Roman,serif\" font-size=\"14.00\">samples = 21</text>\r\n",
       "<text text-anchor=\"middle\" x=\"1001\" y=\"-22.8\" font-family=\"Times New Roman,serif\" font-size=\"14.00\">value = [1, 20]</text>\r\n",
       "<text text-anchor=\"middle\" x=\"1001\" y=\"-7.8\" font-family=\"Times New Roman,serif\" font-size=\"14.00\">class = unacc</text>\r\n",
       "</g>\r\n",
       "<!-- 23&#45;&gt;24 -->\r\n",
       "<g id=\"edge24\" class=\"edge\"><title>23&#45;&gt;24</title>\r\n",
       "<path fill=\"none\" stroke=\"black\" d=\"M1001,-88.9485C1001,-80.7153 1001,-71.848 1001,-63.4814\"/>\r\n",
       "<polygon fill=\"black\" stroke=\"black\" points=\"1004.5,-63.2367 1001,-53.2367 997.5,-63.2367 1004.5,-63.2367\"/>\r\n",
       "</g>\r\n",
       "<!-- 25 -->\r\n",
       "<g id=\"node26\" class=\"node\"><title>25</title>\r\n",
       "<polygon fill=\"#bddef6\" stroke=\"black\" points=\"1161.5,-53 1068.5,-53 1068.5,-0 1161.5,-0 1161.5,-53\"/>\r\n",
       "<text text-anchor=\"middle\" x=\"1115\" y=\"-37.8\" font-family=\"Times New Roman,serif\" font-size=\"14.00\">samples = 5</text>\r\n",
       "<text text-anchor=\"middle\" x=\"1115\" y=\"-22.8\" font-family=\"Times New Roman,serif\" font-size=\"14.00\">value = [2, 3]</text>\r\n",
       "<text text-anchor=\"middle\" x=\"1115\" y=\"-7.8\" font-family=\"Times New Roman,serif\" font-size=\"14.00\">class = unacc</text>\r\n",
       "</g>\r\n",
       "<!-- 23&#45;&gt;25 -->\r\n",
       "<g id=\"edge25\" class=\"edge\"><title>23&#45;&gt;25</title>\r\n",
       "<path fill=\"none\" stroke=\"black\" d=\"M1040.87,-88.9485C1052.24,-79.526 1064.61,-69.2731 1075.93,-59.8906\"/>\r\n",
       "<polygon fill=\"black\" stroke=\"black\" points=\"1078.49,-62.3132 1083.95,-53.2367 1074.02,-56.924 1078.49,-62.3132\"/>\r\n",
       "</g>\r\n",
       "<!-- 27 -->\r\n",
       "<g id=\"node28\" class=\"node\"><title>27</title>\r\n",
       "<polygon fill=\"#6ab6ec\" stroke=\"black\" points=\"1272.5,-53 1179.5,-53 1179.5,-0 1272.5,-0 1272.5,-53\"/>\r\n",
       "<text text-anchor=\"middle\" x=\"1226\" y=\"-37.8\" font-family=\"Times New Roman,serif\" font-size=\"14.00\">samples = 5</text>\r\n",
       "<text text-anchor=\"middle\" x=\"1226\" y=\"-22.8\" font-family=\"Times New Roman,serif\" font-size=\"14.00\">value = [1, 4]</text>\r\n",
       "<text text-anchor=\"middle\" x=\"1226\" y=\"-7.8\" font-family=\"Times New Roman,serif\" font-size=\"14.00\">class = unacc</text>\r\n",
       "</g>\r\n",
       "<!-- 26&#45;&gt;27 -->\r\n",
       "<g id=\"edge27\" class=\"edge\"><title>26&#45;&gt;27</title>\r\n",
       "<path fill=\"none\" stroke=\"black\" d=\"M1226,-88.9485C1226,-80.7153 1226,-71.848 1226,-63.4814\"/>\r\n",
       "<polygon fill=\"black\" stroke=\"black\" points=\"1229.5,-63.2367 1226,-53.2367 1222.5,-63.2367 1229.5,-63.2367\"/>\r\n",
       "</g>\r\n",
       "<!-- 28 -->\r\n",
       "<g id=\"node29\" class=\"node\"><title>28</title>\r\n",
       "<polygon fill=\"#e58139\" stroke=\"black\" points=\"1381.5,-53 1290.5,-53 1290.5,-0 1381.5,-0 1381.5,-53\"/>\r\n",
       "<text text-anchor=\"middle\" x=\"1336\" y=\"-37.8\" font-family=\"Times New Roman,serif\" font-size=\"14.00\">samples = 5</text>\r\n",
       "<text text-anchor=\"middle\" x=\"1336\" y=\"-22.8\" font-family=\"Times New Roman,serif\" font-size=\"14.00\">value = [5, 0]</text>\r\n",
       "<text text-anchor=\"middle\" x=\"1336\" y=\"-7.8\" font-family=\"Times New Roman,serif\" font-size=\"14.00\">class = acc</text>\r\n",
       "</g>\r\n",
       "<!-- 26&#45;&gt;28 -->\r\n",
       "<g id=\"edge28\" class=\"edge\"><title>26&#45;&gt;28</title>\r\n",
       "<path fill=\"none\" stroke=\"black\" d=\"M1264.47,-88.9485C1275.44,-79.526 1287.38,-69.2731 1298.3,-59.8906\"/>\r\n",
       "<polygon fill=\"black\" stroke=\"black\" points=\"1300.74,-62.408 1306.04,-53.2367 1296.18,-57.0983 1300.74,-62.408\"/>\r\n",
       "</g>\r\n",
       "</g>\r\n",
       "</svg>\r\n"
      ],
      "text/plain": [
       "<graphviz.files.Source at 0x280fa880970>"
      ]
     },
     "execution_count": 41,
     "metadata": {},
     "output_type": "execute_result"
    }
   ],
   "source": [
    "plt.subplot(2,1,2)\n",
    "plt.step(rec, pre)\n",
    "plt.xlabel('Recall')\n",
    "plt.ylabel('Precision')\n",
    "plt.title('precision/recall curve')\n",
    "plt.show()\n",
    "\n",
    "graph = Source(tree.export_graphviz(model, out_file=None, class_names=['acc','unacc'], impurity=False,filled=True))\n",
    "graph"
   ]
  },
  {
   "cell_type": "markdown",
   "id": "909cd6b8",
   "metadata": {},
   "source": [
    "## 3. Similarly as in previous step, train another Decision Tree Classifier - but in this case set the maximum depth of the tree to 1 (max_depth = 1). Use the same training and test set as you used for the Decision Tree in the previous step."
   ]
  },
  {
   "cell_type": "markdown",
   "id": "fc591f6c",
   "metadata": {},
   "source": [
    "### 3.1. Using scikit-learn’s DecisionTreeClassifier, train a supervised learning model that can be used to gnerate predictions for your data."
   ]
  },
  {
   "cell_type": "code",
   "execution_count": 42,
   "id": "252f62ca",
   "metadata": {},
   "outputs": [],
   "source": [
    "# Import the classifier from sklearn\n",
    "model_1 = DecisionTreeClassifier(max_depth = 1)\n",
    "model_1.fit(X_train,y_train)\n",
    "\n",
    "# Making predictions\n",
    "y_test_pred_1 = model_1.predict(X_test)"
   ]
  },
  {
   "cell_type": "markdown",
   "id": "6808a952",
   "metadata": {},
   "source": [
    "#### 3.1.1. The accuracy of your model on the test data"
   ]
  },
  {
   "cell_type": "code",
   "execution_count": 43,
   "id": "7a642677",
   "metadata": {},
   "outputs": [
    {
     "name": "stdout",
     "output_type": "stream",
     "text": [
      "The accuracy is 0.7167630057803468\n"
     ]
    }
   ],
   "source": [
    "accuracy_1 = accuracy_score(y_test, y_test_pred_1)\n",
    "print('The accuracy is', accuracy_1)"
   ]
  },
  {
   "cell_type": "markdown",
   "id": "8b4bcfcd",
   "metadata": {},
   "source": [
    "#### 3.1.2. The precision and recall values"
   ]
  },
  {
   "cell_type": "code",
   "execution_count": 44,
   "id": "51c31e96",
   "metadata": {},
   "outputs": [
    {
     "name": "stdout",
     "output_type": "stream",
     "text": [
      "The precision is 0.0\n",
      "The recall is 0.0\n"
     ]
    },
    {
     "name": "stderr",
     "output_type": "stream",
     "text": [
      "C:\\ProgramData\\Anaconda3\\lib\\site-packages\\sklearn\\metrics\\_classification.py:1248: UndefinedMetricWarning: Precision is ill-defined and being set to 0.0 due to no predicted samples. Use `zero_division` parameter to control this behavior.\n",
      "  _warn_prf(average, modifier, msg_start, len(result))\n"
     ]
    }
   ],
   "source": [
    "precision_1 = precision_score(y_test, y_test_pred_1)\n",
    "print('The precision is', precision_1)\n",
    "recall_1 = recall_score(y_test, y_test_pred_1)\n",
    "print('The recall is',recall_1)"
   ]
  },
  {
   "cell_type": "markdown",
   "id": "95d5e329",
   "metadata": {},
   "source": [
    "#### 3.1.3. A classification report (scikit-learn has a function that can create this for you)"
   ]
  },
  {
   "cell_type": "code",
   "execution_count": 45,
   "id": "d5d961a4",
   "metadata": {},
   "outputs": [
    {
     "name": "stdout",
     "output_type": "stream",
     "text": [
      "The classification report is\n",
      "               precision    recall  f1-score   support\n",
      "\n",
      "           0       0.72      1.00      0.84       248\n",
      "           1       0.00      0.00      0.00        98\n",
      "\n",
      "    accuracy                           0.72       346\n",
      "   macro avg       0.36      0.50      0.42       346\n",
      "weighted avg       0.51      0.72      0.60       346\n",
      "\n"
     ]
    },
    {
     "name": "stderr",
     "output_type": "stream",
     "text": [
      "C:\\ProgramData\\Anaconda3\\lib\\site-packages\\sklearn\\metrics\\_classification.py:1248: UndefinedMetricWarning: Precision and F-score are ill-defined and being set to 0.0 in labels with no predicted samples. Use `zero_division` parameter to control this behavior.\n",
      "  _warn_prf(average, modifier, msg_start, len(result))\n",
      "C:\\ProgramData\\Anaconda3\\lib\\site-packages\\sklearn\\metrics\\_classification.py:1248: UndefinedMetricWarning: Precision and F-score are ill-defined and being set to 0.0 in labels with no predicted samples. Use `zero_division` parameter to control this behavior.\n",
      "  _warn_prf(average, modifier, msg_start, len(result))\n",
      "C:\\ProgramData\\Anaconda3\\lib\\site-packages\\sklearn\\metrics\\_classification.py:1248: UndefinedMetricWarning: Precision and F-score are ill-defined and being set to 0.0 in labels with no predicted samples. Use `zero_division` parameter to control this behavior.\n",
      "  _warn_prf(average, modifier, msg_start, len(result))\n"
     ]
    }
   ],
   "source": [
    "classification_1 = classification_report(y_test, y_test_pred_1)\n",
    "print('The classification report is\\n',classification_1)"
   ]
  },
  {
   "cell_type": "markdown",
   "id": "5af0ec49",
   "metadata": {},
   "source": [
    "#### 3.1.4. The confusion matrix for this experiment"
   ]
  },
  {
   "cell_type": "code",
   "execution_count": 46,
   "id": "04b0cf7c",
   "metadata": {},
   "outputs": [
    {
     "name": "stdout",
     "output_type": "stream",
     "text": [
      "The confusion matrix is\n",
      " [[248   0]\n",
      " [ 98   0]]\n"
     ]
    }
   ],
   "source": [
    "confusion_1 = confusion_matrix(y_test, y_test_pred_1)\n",
    "print('The confusion matrix is\\n',confusion_1)"
   ]
  },
  {
   "cell_type": "markdown",
   "id": "c5e1565e",
   "metadata": {},
   "source": [
    "#### 3.1.5. An ROC curve"
   ]
  },
  {
   "cell_type": "code",
   "execution_count": 47,
   "id": "da6d3074",
   "metadata": {},
   "outputs": [
    {
     "data": {
      "image/png": "[encoded data removed]",
      "text/plain": [
       "<Figure size 432x288 with 1 Axes>"
      ]
     },
     "metadata": {
      "needs_background": "light"
     },
     "output_type": "display_data"
    }
   ],
   "source": [
    "fpr_1, tpr_1, thersholds_1 = roc_curve(y_test, y_test_pred_1)\n",
    "pre_1, rec_1, thresholds2_1 = precision_recall_curve(y_test, y_test_pred_1)\n",
    "\n",
    "plt.figure()\n",
    "plt.subplot(2,1,1)\n",
    "plt.plot(fpr_1, tpr_1)\n",
    "plt.xlabel('False Positive Rate')\n",
    "plt.ylabel('True Positive Rate')\n",
    "plt.title('ROC Curve')\n",
    "plt.show()"
   ]
  },
  {
   "cell_type": "markdown",
   "id": "4e616914",
   "metadata": {},
   "source": [
    "#### 3.1.6. A Precision/Recall curve"
   ]
  },
  {
   "cell_type": "code",
   "execution_count": 48,
   "id": "6765c5d9",
   "metadata": {},
   "outputs": [
    {
     "data": {
      "image/png": "[encoded data removed]",
      "text/plain": [
       "<Figure size 432x288 with 1 Axes>"
      ]
     },
     "metadata": {
      "needs_background": "light"
     },
     "output_type": "display_data"
    },
    {
     "data": {
      "image/svg+xml": [
       "<?xml version=\"1.0\" encoding=\"UTF-8\" standalone=\"no\"?>\r\n",
       "<!DOCTYPE svg PUBLIC \"-//W3C//DTD SVG 1.1//EN\"\r\n",
       " \"http://www.w3.org/Graphics/SVG/1.1/DTD/svg11.dtd\">\r\n",
       "<!-- Generated by graphviz version 2.38.0 (20140413.2041)\r\n",
       " -->\r\n",
       "<!-- Title: Tree Pages: 1 -->\r\n",
       "<svg width=\"248pt\" height=\"165pt\"\r\n",
       " viewBox=\"0.00 0.00 248.00 165.00\" xmlns=\"http://www.w3.org/2000/svg\" xmlns:xlink=\"http://www.w3.org/1999/xlink\">\r\n",
       "<g id=\"graph0\" class=\"graph\" transform=\"scale(1 1) rotate(0) translate(4 161)\">\r\n",
       "<title>Tree</title>\r\n",
       "<polygon fill=\"white\" stroke=\"none\" points=\"-4,4 -4,-161 244,-161 244,4 -4,4\"/>\r\n",
       "<!-- 0 -->\r\n",
       "<g id=\"node1\" class=\"node\"><title>0</title>\r\n",
       "<polygon fill=\"#f0b890\" stroke=\"black\" points=\"182,-157 64,-157 64,-89 182,-89 182,-157\"/>\r\n",
       "<text text-anchor=\"middle\" x=\"123\" y=\"-141.8\" font-family=\"Times New Roman,serif\" font-size=\"14.00\">X[19] &lt;= 0.5</text>\r\n",
       "<text text-anchor=\"middle\" x=\"123\" y=\"-126.8\" font-family=\"Times New Roman,serif\" font-size=\"14.00\">samples = 1381</text>\r\n",
       "<text text-anchor=\"middle\" x=\"123\" y=\"-111.8\" font-family=\"Times New Roman,serif\" font-size=\"14.00\">value = [961, 420]</text>\r\n",
       "<text text-anchor=\"middle\" x=\"123\" y=\"-96.8\" font-family=\"Times New Roman,serif\" font-size=\"14.00\">class = acc</text>\r\n",
       "</g>\r\n",
       "<!-- 1 -->\r\n",
       "<g id=\"node2\" class=\"node\"><title>1</title>\r\n",
       "<polygon fill=\"#fbebe0\" stroke=\"black\" points=\"118,-53 0,-53 0,-0 118,-0 118,-53\"/>\r\n",
       "<text text-anchor=\"middle\" x=\"59\" y=\"-37.8\" font-family=\"Times New Roman,serif\" font-size=\"14.00\">samples = 917</text>\r\n",
       "<text text-anchor=\"middle\" x=\"59\" y=\"-22.8\" font-family=\"Times New Roman,serif\" font-size=\"14.00\">value = [497, 420]</text>\r\n",
       "<text text-anchor=\"middle\" x=\"59\" y=\"-7.8\" font-family=\"Times New Roman,serif\" font-size=\"14.00\">class = acc</text>\r\n",
       "</g>\r\n",
       "<!-- 0&#45;&gt;1 -->\r\n",
       "<g id=\"edge1\" class=\"edge\"><title>0&#45;&gt;1</title>\r\n",
       "<path fill=\"none\" stroke=\"black\" d=\"M100.616,-88.9485C94.6063,-80.0749 88.0979,-70.4648 82.0527,-61.5388\"/>\r\n",
       "<polygon fill=\"black\" stroke=\"black\" points=\"84.9357,-59.5539 76.4301,-53.2367 79.1398,-63.4792 84.9357,-59.5539\"/>\r\n",
       "<text text-anchor=\"middle\" x=\"71.7061\" y=\"-74.0863\" font-family=\"Times New Roman,serif\" font-size=\"14.00\">True</text>\r\n",
       "</g>\r\n",
       "<!-- 2 -->\r\n",
       "<g id=\"node3\" class=\"node\"><title>2</title>\r\n",
       "<polygon fill=\"#e58139\" stroke=\"black\" points=\"240,-53 136,-53 136,-0 240,-0 240,-53\"/>\r\n",
       "<text text-anchor=\"middle\" x=\"188\" y=\"-37.8\" font-family=\"Times New Roman,serif\" font-size=\"14.00\">samples = 464</text>\r\n",
       "<text text-anchor=\"middle\" x=\"188\" y=\"-22.8\" font-family=\"Times New Roman,serif\" font-size=\"14.00\">value = [464, 0]</text>\r\n",
       "<text text-anchor=\"middle\" x=\"188\" y=\"-7.8\" font-family=\"Times New Roman,serif\" font-size=\"14.00\">class = acc</text>\r\n",
       "</g>\r\n",
       "<!-- 0&#45;&gt;2 -->\r\n",
       "<g id=\"edge2\" class=\"edge\"><title>0&#45;&gt;2</title>\r\n",
       "<path fill=\"none\" stroke=\"black\" d=\"M145.734,-88.9485C151.837,-80.0749 158.447,-70.4648 164.587,-61.5388\"/>\r\n",
       "<polygon fill=\"black\" stroke=\"black\" points=\"167.514,-63.4594 170.298,-53.2367 161.747,-59.4924 167.514,-63.4594\"/>\r\n",
       "<text text-anchor=\"middle\" x=\"174.844\" y=\"-74.1198\" font-family=\"Times New Roman,serif\" font-size=\"14.00\">False</text>\r\n",
       "</g>\r\n",
       "</g>\r\n",
       "</svg>\r\n"
      ],
      "text/plain": [
       "<graphviz.files.Source at 0x280fab519d0>"
      ]
     },
     "execution_count": 48,
     "metadata": {},
     "output_type": "execute_result"
    }
   ],
   "source": [
    "plt.subplot(2,1,2)\n",
    "plt.step(rec_1, pre_1)\n",
    "plt.xlabel('Recall')\n",
    "plt.ylabel('Precision')\n",
    "plt.title('precision/recall curve')\n",
    "plt.show()\n",
    "\n",
    "graph = Source(tree.export_graphviz(model_1, out_file=None, class_names=['acc','unacc'], impurity=False,filled=True))\n",
    "graph"
   ]
  },
  {
   "cell_type": "markdown",
   "id": "00881082",
   "metadata": {},
   "source": [
    "## 4. Report on the six evaluation metrics listed in objective for both the models, and compare their results."
   ]
  },
  {
   "cell_type": "markdown",
   "id": "cdec7d93",
   "metadata": {},
   "source": [
    "The six evaluation metrics listed in objective for both the models are as shown above.\n",
    "\n",
    "Compare the results, as you can see that when we use a decision tree with maximum depth = 1, the exact value of the result is much lower, with an accuracy of 0. Because it is trained by only one single feature and recision and the actual tag is missing from the predicted tag. In terms of the area of the ROC curve and the conflict matrix, the result of one depth is not as good as the full-deployment decision tree, so the full-depth decision tree will have better prediction results."
   ]
  }
 ],
 "metadata": {
  "kernelspec": {
   "display_name": "Python 3 (ipykernel)",
   "language": "python",
   "name": "python3"
  },
  "language_info": {
   "codemirror_mode": {
    "name": "ipython",
    "version": 3
   },
   "file_extension": ".py",
   "mimetype": "text/x-python",
   "name": "python",
   "nbconvert_exporter": "python",
   "pygments_lexer": "ipython3",
   "version": "3.9.7"
  }
 },
 "nbformat": 4,
 "nbformat_minor": 5
}
