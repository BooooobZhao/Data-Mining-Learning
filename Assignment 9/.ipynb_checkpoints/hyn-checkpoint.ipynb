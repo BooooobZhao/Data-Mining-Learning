{
 "cells": [
  {
   "cell_type": "markdown",
   "id": "6db07e73",
   "metadata": {},
   "source": [
    "# Model Evaluation"
   ]
  },
  {
   "cell_type": "markdown",
   "id": "50ef8302",
   "metadata": {},
   "source": [
    "I used the \"Breast Cancer Wisconsin\" dataset, which is one of the Scikit-Learn datasets. There are 569 instances in the dataset and 30 numeric, predictive attributes. I applied a decision tree model to diagnose cancer scans as benign (does not spread to the rest of the body) or malignant (spreads to the rest of the body). The target data classifies the tumor as either 0 indicating malignant or 1 for benign."
   ]
  },
  {
   "cell_type": "code",
   "execution_count": 344,
   "id": "cf943323",
   "metadata": {},
   "outputs": [],
   "source": [
    "import pandas as pd\n",
    "import random\n",
    "from sklearn.model_selection import train_test_split\n",
    "from sklearn import tree\n",
    "from sklearn.tree import DecisionTreeClassifier\n",
    "from sklearn.tree import export_graphviz\n",
    "from sklearn.metrics import precision_score,recall_score,accuracy_score,confusion_matrix,roc_curve,classification_report,precision_recall_curve\n",
    "from graphviz import Source\n",
    "import graphviz\n",
    "from IPython.display import display,SVG\n",
    "import matplotlib.pyplot as plt\n",
    "from sklearn.datasets import load_breast_cancer\n",
    "random.seed(40)\n",
    "\n",
    "# load the data\n",
    "data = load_breast_cancer()\n",
    "X = data.data\n",
    "y = data.target\n",
    "name_data = data.feature_names"
   ]
  },
  {
   "cell_type": "markdown",
   "id": "a5947580",
   "metadata": {},
   "source": [
    "## 1. Split the dataset into training set and test set (80, 20)"
   ]
  },
  {
   "cell_type": "code",
   "execution_count": 345,
   "id": "bc75b3c5",
   "metadata": {},
   "outputs": [],
   "source": [
    "# Split the dataset into training set and test set (80, 20)\n",
    "X_train, X_test, y_train, y_test = train_test_split(X, y, test_size = 0.2)"
   ]
  },
  {
   "cell_type": "markdown",
   "id": "61da0b55",
   "metadata": {},
   "source": [
    "## 2. Using scikit-learn’s DecisionTreeClassifier, train a supervised learning model that can be used to gnerate predictions for your data."
   ]
  },
  {
   "cell_type": "code",
   "execution_count": 346,
   "id": "d989e780",
   "metadata": {},
   "outputs": [],
   "source": [
    "# Import the classifier from sklearn\n",
    "model = DecisionTreeClassifier(max_depth = 6)\n",
    "model.fit(X_train,y_train)\n",
    "\n",
    "# Making predictions\n",
    "y_train_pred = model.predict(X_train)\n",
    "y_test_pred = model.predict(X_test)"
   ]
  },
  {
   "cell_type": "markdown",
   "id": "fe82ffb9",
   "metadata": {},
   "source": [
    "### 2.1. The accuracy of your model on the test data"
   ]
  },
  {
   "cell_type": "code",
   "execution_count": 347,
   "id": "36efbcfd",
   "metadata": {},
   "outputs": [
    {
     "name": "stdout",
     "output_type": "stream",
     "text": [
      "The accuracy is 0.9298245614035088\n"
     ]
    }
   ],
   "source": [
    "accuracy = accuracy_score(y_test, y_test_pred)\n",
    "print('The accuracy is', accuracy)"
   ]
  },
  {
   "cell_type": "markdown",
   "id": "6260b2e8",
   "metadata": {},
   "source": [
    "### 2.2. The precision and recall values"
   ]
  },
  {
   "cell_type": "code",
   "execution_count": 348,
   "id": "8d274821",
   "metadata": {},
   "outputs": [
    {
     "name": "stdout",
     "output_type": "stream",
     "text": [
      "The precision is 0.9305555555555556\n",
      "The recall is 0.9571428571428572\n"
     ]
    }
   ],
   "source": [
    "precision = precision_score(y_test, y_test_pred)\n",
    "print('The precision is', precision)\n",
    "recall = recall_score(y_test, y_test_pred)\n",
    "print('The recall is',recall)"
   ]
  },
  {
   "cell_type": "markdown",
   "id": "9dc19265",
   "metadata": {},
   "source": [
    "### 2.3. A classification report (scikit-learn has a function that can create this for you)"
   ]
  },
  {
   "cell_type": "code",
   "execution_count": 349,
   "id": "0d19ef58",
   "metadata": {},
   "outputs": [
    {
     "name": "stdout",
     "output_type": "stream",
     "text": [
      "The classification report is\n",
      "               precision    recall  f1-score   support\n",
      "\n",
      "           0       0.93      0.89      0.91        44\n",
      "           1       0.93      0.96      0.94        70\n",
      "\n",
      "    accuracy                           0.93       114\n",
      "   macro avg       0.93      0.92      0.93       114\n",
      "weighted avg       0.93      0.93      0.93       114\n",
      "\n"
     ]
    }
   ],
   "source": [
    "classification = classification_report(y_test, y_test_pred)\n",
    "print('The classification report is\\n',classification)"
   ]
  },
  {
   "cell_type": "markdown",
   "id": "82ce6af6",
   "metadata": {},
   "source": [
    "### 2.4. The confusion matrix for this experiment"
   ]
  },
  {
   "cell_type": "code",
   "execution_count": 350,
   "id": "0a610a86",
   "metadata": {},
   "outputs": [
    {
     "name": "stdout",
     "output_type": "stream",
     "text": [
      "The confusion matrix is\n",
      " [[39  5]\n",
      " [ 3 67]]\n"
     ]
    }
   ],
   "source": [
    "confusion = confusion_matrix(y_test, y_test_pred)\n",
    "print('The confusion matrix is\\n',confusion)"
   ]
  },
  {
   "cell_type": "markdown",
   "id": "999cd4b5",
   "metadata": {},
   "source": [
    "### 2.5. An ROC curve"
   ]
  },
  {
   "cell_type": "code",
   "execution_count": 351,
   "id": "fbd8644c",
   "metadata": {},
   "outputs": [
    {
     "data": {
      "image/png": "[encoded data removed]",
      "text/plain": [
       "<Figure size 432x288 with 1 Axes>"
      ]
     },
     "metadata": {
      "needs_background": "light"
     },
     "output_type": "display_data"
    }
   ],
   "source": [
    "fpr, tpr, thersholds = roc_curve(y_test, y_test_pred)\n",
    "pre, rec, thresholds2 = precision_recall_curve(y_test, y_test_pred)\n",
    "\n",
    "plt.figure()\n",
    "plt.subplot(2,1,1)\n",
    "plt.plot(fpr, tpr)\n",
    "plt.xlabel('False Positive Rate')\n",
    "plt.ylabel('True Positive Rate')\n",
    "plt.title('ROC Curve')\n",
    "plt.show()"
   ]
  },
  {
   "cell_type": "markdown",
   "id": "29d22295",
   "metadata": {},
   "source": [
    "### 2.6. A Precision/Recall curve"
   ]
  },
  {
   "cell_type": "code",
   "execution_count": 352,
   "id": "5d110b13",
   "metadata": {},
   "outputs": [
    {
     "data": {
      "image/png": "[encoded data removed]",
      "text/plain": [
       "<Figure size 432x288 with 1 Axes>"
      ]
     },
     "metadata": {
      "needs_background": "light"
     },
     "output_type": "display_data"
    },
    {
     "data": {
      "image/svg+xml": [
       "<?xml version=\"1.0\" encoding=\"UTF-8\" standalone=\"no\"?>\r\n",
       "<!DOCTYPE svg PUBLIC \"-//W3C//DTD SVG 1.1//EN\"\r\n",
       " \"http://www.w3.org/Graphics/SVG/1.1/DTD/svg11.dtd\">\r\n",
       "<!-- Generated by graphviz version 2.38.0 (20140413.2041)\r\n",
       " -->\r\n",
       "<!-- Title: Tree Pages: 1 -->\r\n",
       "<svg width=\"1348pt\" height=\"685pt\"\r\n",
       " viewBox=\"0.00 0.00 1347.50 685.00\" xmlns=\"http://www.w3.org/2000/svg\" xmlns:xlink=\"http://www.w3.org/1999/xlink\">\r\n",
       "<g id=\"graph0\" class=\"graph\" transform=\"scale(1 1) rotate(0) translate(4 681)\">\r\n",
       "<title>Tree</title>\r\n",
       "<polygon fill=\"white\" stroke=\"none\" points=\"-4,4 -4,-681 1343.5,-681 1343.5,4 -4,4\"/>\r\n",
       "<!-- 0 -->\r\n",
       "<g id=\"node1\" class=\"node\"><title>0</title>\r\n",
       "<polygon fill=\"#add6f4\" stroke=\"black\" points=\"880.5,-677 762.5,-677 762.5,-609 880.5,-609 880.5,-677\"/>\r\n",
       "<text text-anchor=\"middle\" x=\"821.5\" y=\"-661.8\" font-family=\"Times New Roman,serif\" font-size=\"14.00\">X[20] &lt;= 16.795</text>\r\n",
       "<text text-anchor=\"middle\" x=\"821.5\" y=\"-646.8\" font-family=\"Times New Roman,serif\" font-size=\"14.00\">samples = 455</text>\r\n",
       "<text text-anchor=\"middle\" x=\"821.5\" y=\"-631.8\" font-family=\"Times New Roman,serif\" font-size=\"14.00\">value = [168, 287]</text>\r\n",
       "<text text-anchor=\"middle\" x=\"821.5\" y=\"-616.8\" font-family=\"Times New Roman,serif\" font-size=\"14.00\">class = malignant</text>\r\n",
       "</g>\r\n",
       "<!-- 1 -->\r\n",
       "<g id=\"node2\" class=\"node\"><title>1</title>\r\n",
       "<polygon fill=\"#4aa5e7\" stroke=\"black\" points=\"784,-573 671,-573 671,-505 784,-505 784,-573\"/>\r\n",
       "<text text-anchor=\"middle\" x=\"727.5\" y=\"-557.8\" font-family=\"Times New Roman,serif\" font-size=\"14.00\">X[27] &lt;= 0.16</text>\r\n",
       "<text text-anchor=\"middle\" x=\"727.5\" y=\"-542.8\" font-family=\"Times New Roman,serif\" font-size=\"14.00\">samples = 303</text>\r\n",
       "<text text-anchor=\"middle\" x=\"727.5\" y=\"-527.8\" font-family=\"Times New Roman,serif\" font-size=\"14.00\">value = [24, 279]</text>\r\n",
       "<text text-anchor=\"middle\" x=\"727.5\" y=\"-512.8\" font-family=\"Times New Roman,serif\" font-size=\"14.00\">class = malignant</text>\r\n",
       "</g>\r\n",
       "<!-- 0&#45;&gt;1 -->\r\n",
       "<g id=\"edge1\" class=\"edge\"><title>0&#45;&gt;1</title>\r\n",
       "<path fill=\"none\" stroke=\"black\" d=\"M790.981,-608.884C782.69,-599.887 773.616,-590.041 764.988,-580.678\"/>\r\n",
       "<polygon fill=\"black\" stroke=\"black\" points=\"767.538,-578.281 758.188,-573.299 762.391,-583.025 767.538,-578.281\"/>\r\n",
       "<text text-anchor=\"middle\" x=\"757.168\" y=\"-594.579\" font-family=\"Times New Roman,serif\" font-size=\"14.00\">True</text>\r\n",
       "</g>\r\n",
       "<!-- 22 -->\r\n",
       "<g id=\"node23\" class=\"node\"><title>22</title>\r\n",
       "<polygon fill=\"#e68844\" stroke=\"black\" points=\"967.5,-573 863.5,-573 863.5,-505 967.5,-505 967.5,-573\"/>\r\n",
       "<text text-anchor=\"middle\" x=\"915.5\" y=\"-557.8\" font-family=\"Times New Roman,serif\" font-size=\"14.00\">X[11] &lt;= 0.483</text>\r\n",
       "<text text-anchor=\"middle\" x=\"915.5\" y=\"-542.8\" font-family=\"Times New Roman,serif\" font-size=\"14.00\">samples = 152</text>\r\n",
       "<text text-anchor=\"middle\" x=\"915.5\" y=\"-527.8\" font-family=\"Times New Roman,serif\" font-size=\"14.00\">value = [144, 8]</text>\r\n",
       "<text text-anchor=\"middle\" x=\"915.5\" y=\"-512.8\" font-family=\"Times New Roman,serif\" font-size=\"14.00\">class = benign</text>\r\n",
       "</g>\r\n",
       "<!-- 0&#45;&gt;22 -->\r\n",
       "<g id=\"edge22\" class=\"edge\"><title>0&#45;&gt;22</title>\r\n",
       "<path fill=\"none\" stroke=\"black\" d=\"M852.019,-608.884C860.31,-599.887 869.384,-590.041 878.012,-580.678\"/>\r\n",
       "<polygon fill=\"black\" stroke=\"black\" points=\"880.609,-583.025 884.812,-573.299 875.462,-578.281 880.609,-583.025\"/>\r\n",
       "<text text-anchor=\"middle\" x=\"885.832\" y=\"-594.579\" font-family=\"Times New Roman,serif\" font-size=\"14.00\">False</text>\r\n",
       "</g>\r\n",
       "<!-- 2 -->\r\n",
       "<g id=\"node3\" class=\"node\"><title>2</title>\r\n",
       "<polygon fill=\"#40a1e6\" stroke=\"black\" points=\"592,-469 479,-469 479,-401 592,-401 592,-469\"/>\r\n",
       "<text text-anchor=\"middle\" x=\"535.5\" y=\"-453.8\" font-family=\"Times New Roman,serif\" font-size=\"14.00\">X[27] &lt;= 0.136</text>\r\n",
       "<text text-anchor=\"middle\" x=\"535.5\" y=\"-438.8\" font-family=\"Times New Roman,serif\" font-size=\"14.00\">samples = 287</text>\r\n",
       "<text text-anchor=\"middle\" x=\"535.5\" y=\"-423.8\" font-family=\"Times New Roman,serif\" font-size=\"14.00\">value = [10, 277]</text>\r\n",
       "<text text-anchor=\"middle\" x=\"535.5\" y=\"-408.8\" font-family=\"Times New Roman,serif\" font-size=\"14.00\">class = malignant</text>\r\n",
       "</g>\r\n",
       "<!-- 1&#45;&gt;2 -->\r\n",
       "<g id=\"edge2\" class=\"edge\"><title>1&#45;&gt;2</title>\r\n",
       "<path fill=\"none\" stroke=\"black\" d=\"M670.932,-507.948C649.058,-496.328 623.878,-482.951 601.208,-470.908\"/>\r\n",
       "<polygon fill=\"black\" stroke=\"black\" points=\"602.8,-467.79 592.327,-466.189 599.516,-473.972 602.8,-467.79\"/>\r\n",
       "</g>\r\n",
       "<!-- 19 -->\r\n",
       "<g id=\"node20\" class=\"node\"><title>19</title>\r\n",
       "<polygon fill=\"#e99355\" stroke=\"black\" points=\"779.5,-469 675.5,-469 675.5,-401 779.5,-401 779.5,-469\"/>\r\n",
       "<text text-anchor=\"middle\" x=\"727.5\" y=\"-453.8\" font-family=\"Times New Roman,serif\" font-size=\"14.00\">X[21] &lt;= 23.47</text>\r\n",
       "<text text-anchor=\"middle\" x=\"727.5\" y=\"-438.8\" font-family=\"Times New Roman,serif\" font-size=\"14.00\">samples = 16</text>\r\n",
       "<text text-anchor=\"middle\" x=\"727.5\" y=\"-423.8\" font-family=\"Times New Roman,serif\" font-size=\"14.00\">value = [14, 2]</text>\r\n",
       "<text text-anchor=\"middle\" x=\"727.5\" y=\"-408.8\" font-family=\"Times New Roman,serif\" font-size=\"14.00\">class = benign</text>\r\n",
       "</g>\r\n",
       "<!-- 1&#45;&gt;19 -->\r\n",
       "<g id=\"edge19\" class=\"edge\"><title>1&#45;&gt;19</title>\r\n",
       "<path fill=\"none\" stroke=\"black\" d=\"M727.5,-504.884C727.5,-496.778 727.5,-487.982 727.5,-479.472\"/>\r\n",
       "<polygon fill=\"black\" stroke=\"black\" points=\"731,-479.299 727.5,-469.299 724,-479.299 731,-479.299\"/>\r\n",
       "</g>\r\n",
       "<!-- 3 -->\r\n",
       "<g id=\"node4\" class=\"node\"><title>3</title>\r\n",
       "<polygon fill=\"#3b9ee5\" stroke=\"black\" points=\"461,-365 348,-365 348,-297 461,-297 461,-365\"/>\r\n",
       "<text text-anchor=\"middle\" x=\"404.5\" y=\"-349.8\" font-family=\"Times New Roman,serif\" font-size=\"14.00\">X[12] &lt;= 6.597</text>\r\n",
       "<text text-anchor=\"middle\" x=\"404.5\" y=\"-334.8\" font-family=\"Times New Roman,serif\" font-size=\"14.00\">samples = 265</text>\r\n",
       "<text text-anchor=\"middle\" x=\"404.5\" y=\"-319.8\" font-family=\"Times New Roman,serif\" font-size=\"14.00\">value = [3, 262]</text>\r\n",
       "<text text-anchor=\"middle\" x=\"404.5\" y=\"-304.8\" font-family=\"Times New Roman,serif\" font-size=\"14.00\">class = malignant</text>\r\n",
       "</g>\r\n",
       "<!-- 2&#45;&gt;3 -->\r\n",
       "<g id=\"edge3\" class=\"edge\"><title>2&#45;&gt;3</title>\r\n",
       "<path fill=\"none\" stroke=\"black\" d=\"M492.968,-400.884C480.956,-391.531 467.764,-381.259 455.318,-371.568\"/>\r\n",
       "<polygon fill=\"black\" stroke=\"black\" points=\"457.307,-368.681 447.267,-365.299 453.007,-374.205 457.307,-368.681\"/>\r\n",
       "</g>\r\n",
       "<!-- 12 -->\r\n",
       "<g id=\"node13\" class=\"node\"><title>12</title>\r\n",
       "<polygon fill=\"#95cbf1\" stroke=\"black\" points=\"592,-365 479,-365 479,-297 592,-297 592,-365\"/>\r\n",
       "<text text-anchor=\"middle\" x=\"535.5\" y=\"-349.8\" font-family=\"Times New Roman,serif\" font-size=\"14.00\">X[21] &lt;= 29.03</text>\r\n",
       "<text text-anchor=\"middle\" x=\"535.5\" y=\"-334.8\" font-family=\"Times New Roman,serif\" font-size=\"14.00\">samples = 22</text>\r\n",
       "<text text-anchor=\"middle\" x=\"535.5\" y=\"-319.8\" font-family=\"Times New Roman,serif\" font-size=\"14.00\">value = [7, 15]</text>\r\n",
       "<text text-anchor=\"middle\" x=\"535.5\" y=\"-304.8\" font-family=\"Times New Roman,serif\" font-size=\"14.00\">class = malignant</text>\r\n",
       "</g>\r\n",
       "<!-- 2&#45;&gt;12 -->\r\n",
       "<g id=\"edge12\" class=\"edge\"><title>2&#45;&gt;12</title>\r\n",
       "<path fill=\"none\" stroke=\"black\" d=\"M535.5,-400.884C535.5,-392.778 535.5,-383.982 535.5,-375.472\"/>\r\n",
       "<polygon fill=\"black\" stroke=\"black\" points=\"539,-375.299 535.5,-365.299 532,-375.299 539,-375.299\"/>\r\n",
       "</g>\r\n",
       "<!-- 4 -->\r\n",
       "<g id=\"node5\" class=\"node\"><title>4</title>\r\n",
       "<polygon fill=\"#3b9ee5\" stroke=\"black\" points=\"342,-261 229,-261 229,-193 342,-193 342,-261\"/>\r\n",
       "<text text-anchor=\"middle\" x=\"285.5\" y=\"-245.8\" font-family=\"Times New Roman,serif\" font-size=\"14.00\">X[22] &lt;= 108.25</text>\r\n",
       "<text text-anchor=\"middle\" x=\"285.5\" y=\"-230.8\" font-family=\"Times New Roman,serif\" font-size=\"14.00\">samples = 264</text>\r\n",
       "<text text-anchor=\"middle\" x=\"285.5\" y=\"-215.8\" font-family=\"Times New Roman,serif\" font-size=\"14.00\">value = [2, 262]</text>\r\n",
       "<text text-anchor=\"middle\" x=\"285.5\" y=\"-200.8\" font-family=\"Times New Roman,serif\" font-size=\"14.00\">class = malignant</text>\r\n",
       "</g>\r\n",
       "<!-- 3&#45;&gt;4 -->\r\n",
       "<g id=\"edge4\" class=\"edge\"><title>3&#45;&gt;4</title>\r\n",
       "<path fill=\"none\" stroke=\"black\" d=\"M365.864,-296.884C355.056,-287.62 343.197,-277.455 331.986,-267.845\"/>\r\n",
       "<polygon fill=\"black\" stroke=\"black\" points=\"334.22,-265.15 324.349,-261.299 329.664,-270.465 334.22,-265.15\"/>\r\n",
       "</g>\r\n",
       "<!-- 11 -->\r\n",
       "<g id=\"node12\" class=\"node\"><title>11</title>\r\n",
       "<polygon fill=\"#e58139\" stroke=\"black\" points=\"457,-253.5 360,-253.5 360,-200.5 457,-200.5 457,-253.5\"/>\r\n",
       "<text text-anchor=\"middle\" x=\"408.5\" y=\"-238.3\" font-family=\"Times New Roman,serif\" font-size=\"14.00\">samples = 1</text>\r\n",
       "<text text-anchor=\"middle\" x=\"408.5\" y=\"-223.3\" font-family=\"Times New Roman,serif\" font-size=\"14.00\">value = [1, 0]</text>\r\n",
       "<text text-anchor=\"middle\" x=\"408.5\" y=\"-208.3\" font-family=\"Times New Roman,serif\" font-size=\"14.00\">class = benign</text>\r\n",
       "</g>\r\n",
       "<!-- 3&#45;&gt;11 -->\r\n",
       "<g id=\"edge11\" class=\"edge\"><title>3&#45;&gt;11</title>\r\n",
       "<path fill=\"none\" stroke=\"black\" d=\"M405.799,-296.884C406.217,-286.216 406.682,-274.352 407.107,-263.519\"/>\r\n",
       "<polygon fill=\"black\" stroke=\"black\" points=\"410.605,-263.649 407.499,-253.52 403.61,-263.375 410.605,-263.649\"/>\r\n",
       "</g>\r\n",
       "<!-- 5 -->\r\n",
       "<g id=\"node6\" class=\"node\"><title>5</title>\r\n",
       "<polygon fill=\"#3a9de5\" stroke=\"black\" points=\"244,-157 131,-157 131,-89 244,-89 244,-157\"/>\r\n",
       "<text text-anchor=\"middle\" x=\"187.5\" y=\"-141.8\" font-family=\"Times New Roman,serif\" font-size=\"14.00\">X[21] &lt;= 33.35</text>\r\n",
       "<text text-anchor=\"middle\" x=\"187.5\" y=\"-126.8\" font-family=\"Times New Roman,serif\" font-size=\"14.00\">samples = 257</text>\r\n",
       "<text text-anchor=\"middle\" x=\"187.5\" y=\"-111.8\" font-family=\"Times New Roman,serif\" font-size=\"14.00\">value = [1, 256]</text>\r\n",
       "<text text-anchor=\"middle\" x=\"187.5\" y=\"-96.8\" font-family=\"Times New Roman,serif\" font-size=\"14.00\">class = malignant</text>\r\n",
       "</g>\r\n",
       "<!-- 4&#45;&gt;5 -->\r\n",
       "<g id=\"edge5\" class=\"edge\"><title>4&#45;&gt;5</title>\r\n",
       "<path fill=\"none\" stroke=\"black\" d=\"M253.682,-192.884C245.039,-183.887 235.578,-174.041 226.583,-164.678\"/>\r\n",
       "<polygon fill=\"black\" stroke=\"black\" points=\"228.946,-162.086 219.494,-157.299 223.898,-166.935 228.946,-162.086\"/>\r\n",
       "</g>\r\n",
       "<!-- 8 -->\r\n",
       "<g id=\"node9\" class=\"node\"><title>8</title>\r\n",
       "<polygon fill=\"#5aade9\" stroke=\"black\" points=\"375,-157 262,-157 262,-89 375,-89 375,-157\"/>\r\n",
       "<text text-anchor=\"middle\" x=\"318.5\" y=\"-141.8\" font-family=\"Times New Roman,serif\" font-size=\"14.00\">X[14] &lt;= 0.008</text>\r\n",
       "<text text-anchor=\"middle\" x=\"318.5\" y=\"-126.8\" font-family=\"Times New Roman,serif\" font-size=\"14.00\">samples = 7</text>\r\n",
       "<text text-anchor=\"middle\" x=\"318.5\" y=\"-111.8\" font-family=\"Times New Roman,serif\" font-size=\"14.00\">value = [1, 6]</text>\r\n",
       "<text text-anchor=\"middle\" x=\"318.5\" y=\"-96.8\" font-family=\"Times New Roman,serif\" font-size=\"14.00\">class = malignant</text>\r\n",
       "</g>\r\n",
       "<!-- 4&#45;&gt;8 -->\r\n",
       "<g id=\"edge8\" class=\"edge\"><title>4&#45;&gt;8</title>\r\n",
       "<path fill=\"none\" stroke=\"black\" d=\"M296.214,-192.884C298.894,-184.6 301.807,-175.595 304.617,-166.911\"/>\r\n",
       "<polygon fill=\"black\" stroke=\"black\" points=\"307.978,-167.891 307.727,-157.299 301.318,-165.736 307.978,-167.891\"/>\r\n",
       "</g>\r\n",
       "<!-- 6 -->\r\n",
       "<g id=\"node7\" class=\"node\"><title>6</title>\r\n",
       "<polygon fill=\"#399de5\" stroke=\"black\" points=\"113,-53 0,-53 0,-0 113,-0 113,-53\"/>\r\n",
       "<text text-anchor=\"middle\" x=\"56.5\" y=\"-37.8\" font-family=\"Times New Roman,serif\" font-size=\"14.00\">samples = 244</text>\r\n",
       "<text text-anchor=\"middle\" x=\"56.5\" y=\"-22.8\" font-family=\"Times New Roman,serif\" font-size=\"14.00\">value = [0, 244]</text>\r\n",
       "<text text-anchor=\"middle\" x=\"56.5\" y=\"-7.8\" font-family=\"Times New Roman,serif\" font-size=\"14.00\">class = malignant</text>\r\n",
       "</g>\r\n",
       "<!-- 5&#45;&gt;6 -->\r\n",
       "<g id=\"edge6\" class=\"edge\"><title>5&#45;&gt;6</title>\r\n",
       "<path fill=\"none\" stroke=\"black\" d=\"M141.683,-88.9485C128.367,-79.3431 113.855,-68.8747 100.645,-59.345\"/>\r\n",
       "<polygon fill=\"black\" stroke=\"black\" points=\"102.335,-56.2486 92.1773,-53.2367 98.2398,-61.9257 102.335,-56.2486\"/>\r\n",
       "</g>\r\n",
       "<!-- 7 -->\r\n",
       "<g id=\"node8\" class=\"node\"><title>7</title>\r\n",
       "<polygon fill=\"#49a5e7\" stroke=\"black\" points=\"244,-53 131,-53 131,-0 244,-0 244,-53\"/>\r\n",
       "<text text-anchor=\"middle\" x=\"187.5\" y=\"-37.8\" font-family=\"Times New Roman,serif\" font-size=\"14.00\">samples = 13</text>\r\n",
       "<text text-anchor=\"middle\" x=\"187.5\" y=\"-22.8\" font-family=\"Times New Roman,serif\" font-size=\"14.00\">value = [1, 12]</text>\r\n",
       "<text text-anchor=\"middle\" x=\"187.5\" y=\"-7.8\" font-family=\"Times New Roman,serif\" font-size=\"14.00\">class = malignant</text>\r\n",
       "</g>\r\n",
       "<!-- 5&#45;&gt;7 -->\r\n",
       "<g id=\"edge7\" class=\"edge\"><title>5&#45;&gt;7</title>\r\n",
       "<path fill=\"none\" stroke=\"black\" d=\"M187.5,-88.9485C187.5,-80.7153 187.5,-71.848 187.5,-63.4814\"/>\r\n",
       "<polygon fill=\"black\" stroke=\"black\" points=\"191,-63.2367 187.5,-53.2367 184,-63.2367 191,-63.2367\"/>\r\n",
       "</g>\r\n",
       "<!-- 9 -->\r\n",
       "<g id=\"node10\" class=\"node\"><title>9</title>\r\n",
       "<polygon fill=\"#399de5\" stroke=\"black\" points=\"375,-53 262,-53 262,-0 375,-0 375,-53\"/>\r\n",
       "<text text-anchor=\"middle\" x=\"318.5\" y=\"-37.8\" font-family=\"Times New Roman,serif\" font-size=\"14.00\">samples = 6</text>\r\n",
       "<text text-anchor=\"middle\" x=\"318.5\" y=\"-22.8\" font-family=\"Times New Roman,serif\" font-size=\"14.00\">value = [0, 6]</text>\r\n",
       "<text text-anchor=\"middle\" x=\"318.5\" y=\"-7.8\" font-family=\"Times New Roman,serif\" font-size=\"14.00\">class = malignant</text>\r\n",
       "</g>\r\n",
       "<!-- 8&#45;&gt;9 -->\r\n",
       "<g id=\"edge9\" class=\"edge\"><title>8&#45;&gt;9</title>\r\n",
       "<path fill=\"none\" stroke=\"black\" d=\"M318.5,-88.9485C318.5,-80.7153 318.5,-71.848 318.5,-63.4814\"/>\r\n",
       "<polygon fill=\"black\" stroke=\"black\" points=\"322,-63.2367 318.5,-53.2367 315,-63.2367 322,-63.2367\"/>\r\n",
       "</g>\r\n",
       "<!-- 10 -->\r\n",
       "<g id=\"node11\" class=\"node\"><title>10</title>\r\n",
       "<polygon fill=\"#e58139\" stroke=\"black\" points=\"490,-53 393,-53 393,-0 490,-0 490,-53\"/>\r\n",
       "<text text-anchor=\"middle\" x=\"441.5\" y=\"-37.8\" font-family=\"Times New Roman,serif\" font-size=\"14.00\">samples = 1</text>\r\n",
       "<text text-anchor=\"middle\" x=\"441.5\" y=\"-22.8\" font-family=\"Times New Roman,serif\" font-size=\"14.00\">value = [1, 0]</text>\r\n",
       "<text text-anchor=\"middle\" x=\"441.5\" y=\"-7.8\" font-family=\"Times New Roman,serif\" font-size=\"14.00\">class = benign</text>\r\n",
       "</g>\r\n",
       "<!-- 8&#45;&gt;10 -->\r\n",
       "<g id=\"edge10\" class=\"edge\"><title>8&#45;&gt;10</title>\r\n",
       "<path fill=\"none\" stroke=\"black\" d=\"M361.519,-88.9485C374.022,-79.3431 387.647,-68.8747 400.051,-59.345\"/>\r\n",
       "<polygon fill=\"black\" stroke=\"black\" points=\"402.204,-62.1046 408.001,-53.2367 397.939,-56.5537 402.204,-62.1046\"/>\r\n",
       "</g>\r\n",
       "<!-- 13 -->\r\n",
       "<g id=\"node14\" class=\"node\"><title>13</title>\r\n",
       "<polygon fill=\"#53aae8\" stroke=\"black\" points=\"590,-261 477,-261 477,-193 590,-193 590,-261\"/>\r\n",
       "<text text-anchor=\"middle\" x=\"533.5\" y=\"-245.8\" font-family=\"Times New Roman,serif\" font-size=\"14.00\">X[23] &lt;= 817.9</text>\r\n",
       "<text text-anchor=\"middle\" x=\"533.5\" y=\"-230.8\" font-family=\"Times New Roman,serif\" font-size=\"14.00\">samples = 17</text>\r\n",
       "<text text-anchor=\"middle\" x=\"533.5\" y=\"-215.8\" font-family=\"Times New Roman,serif\" font-size=\"14.00\">value = [2, 15]</text>\r\n",
       "<text text-anchor=\"middle\" x=\"533.5\" y=\"-200.8\" font-family=\"Times New Roman,serif\" font-size=\"14.00\">class = malignant</text>\r\n",
       "</g>\r\n",
       "<!-- 12&#45;&gt;13 -->\r\n",
       "<g id=\"edge13\" class=\"edge\"><title>12&#45;&gt;13</title>\r\n",
       "<path fill=\"none\" stroke=\"black\" d=\"M534.851,-296.884C534.692,-288.778 534.519,-279.982 534.352,-271.472\"/>\r\n",
       "<polygon fill=\"black\" stroke=\"black\" points=\"537.848,-271.229 534.153,-261.299 530.85,-271.366 537.848,-271.229\"/>\r\n",
       "</g>\r\n",
       "<!-- 18 -->\r\n",
       "<g id=\"node19\" class=\"node\"><title>18</title>\r\n",
       "<polygon fill=\"#e58139\" stroke=\"black\" points=\"705,-253.5 608,-253.5 608,-200.5 705,-200.5 705,-253.5\"/>\r\n",
       "<text text-anchor=\"middle\" x=\"656.5\" y=\"-238.3\" font-family=\"Times New Roman,serif\" font-size=\"14.00\">samples = 5</text>\r\n",
       "<text text-anchor=\"middle\" x=\"656.5\" y=\"-223.3\" font-family=\"Times New Roman,serif\" font-size=\"14.00\">value = [5, 0]</text>\r\n",
       "<text text-anchor=\"middle\" x=\"656.5\" y=\"-208.3\" font-family=\"Times New Roman,serif\" font-size=\"14.00\">class = benign</text>\r\n",
       "</g>\r\n",
       "<!-- 12&#45;&gt;18 -->\r\n",
       "<g id=\"edge18\" class=\"edge\"><title>12&#45;&gt;18</title>\r\n",
       "<path fill=\"none\" stroke=\"black\" d=\"M574.785,-296.884C588.745,-285.116 604.43,-271.894 618.298,-260.203\"/>\r\n",
       "<polygon fill=\"black\" stroke=\"black\" points=\"620.836,-262.641 626.226,-253.52 616.325,-257.289 620.836,-262.641\"/>\r\n",
       "</g>\r\n",
       "<!-- 14 -->\r\n",
       "<g id=\"node15\" class=\"node\"><title>14</title>\r\n",
       "<polygon fill=\"#399de5\" stroke=\"black\" points=\"557,-149.5 444,-149.5 444,-96.5 557,-96.5 557,-149.5\"/>\r\n",
       "<text text-anchor=\"middle\" x=\"500.5\" y=\"-134.3\" font-family=\"Times New Roman,serif\" font-size=\"14.00\">samples = 14</text>\r\n",
       "<text text-anchor=\"middle\" x=\"500.5\" y=\"-119.3\" font-family=\"Times New Roman,serif\" font-size=\"14.00\">value = [0, 14]</text>\r\n",
       "<text text-anchor=\"middle\" x=\"500.5\" y=\"-104.3\" font-family=\"Times New Roman,serif\" font-size=\"14.00\">class = malignant</text>\r\n",
       "</g>\r\n",
       "<!-- 13&#45;&gt;14 -->\r\n",
       "<g id=\"edge14\" class=\"edge\"><title>13&#45;&gt;14</title>\r\n",
       "<path fill=\"none\" stroke=\"black\" d=\"M522.786,-192.884C519.299,-182.106 515.417,-170.108 511.883,-159.184\"/>\r\n",
       "<polygon fill=\"black\" stroke=\"black\" points=\"515.165,-157.957 508.756,-149.52 508.505,-160.112 515.165,-157.957\"/>\r\n",
       "</g>\r\n",
       "<!-- 15 -->\r\n",
       "<g id=\"node16\" class=\"node\"><title>15</title>\r\n",
       "<polygon fill=\"#f2c09c\" stroke=\"black\" points=\"679.5,-157 575.5,-157 575.5,-89 679.5,-89 679.5,-157\"/>\r\n",
       "<text text-anchor=\"middle\" x=\"627.5\" y=\"-141.8\" font-family=\"Times New Roman,serif\" font-size=\"14.00\">X[19] &lt;= 0.003</text>\r\n",
       "<text text-anchor=\"middle\" x=\"627.5\" y=\"-126.8\" font-family=\"Times New Roman,serif\" font-size=\"14.00\">samples = 3</text>\r\n",
       "<text text-anchor=\"middle\" x=\"627.5\" y=\"-111.8\" font-family=\"Times New Roman,serif\" font-size=\"14.00\">value = [2, 1]</text>\r\n",
       "<text text-anchor=\"middle\" x=\"627.5\" y=\"-96.8\" font-family=\"Times New Roman,serif\" font-size=\"14.00\">class = benign</text>\r\n",
       "</g>\r\n",
       "<!-- 13&#45;&gt;15 -->\r\n",
       "<g id=\"edge15\" class=\"edge\"><title>13&#45;&gt;15</title>\r\n",
       "<path fill=\"none\" stroke=\"black\" d=\"M564.019,-192.884C572.31,-183.887 581.384,-174.041 590.012,-164.678\"/>\r\n",
       "<polygon fill=\"black\" stroke=\"black\" points=\"592.609,-167.025 596.812,-157.299 587.462,-162.281 592.609,-167.025\"/>\r\n",
       "</g>\r\n",
       "<!-- 16 -->\r\n",
       "<g id=\"node17\" class=\"node\"><title>16</title>\r\n",
       "<polygon fill=\"#e58139\" stroke=\"black\" points=\"640,-53 543,-53 543,-0 640,-0 640,-53\"/>\r\n",
       "<text text-anchor=\"middle\" x=\"591.5\" y=\"-37.8\" font-family=\"Times New Roman,serif\" font-size=\"14.00\">samples = 2</text>\r\n",
       "<text text-anchor=\"middle\" x=\"591.5\" y=\"-22.8\" font-family=\"Times New Roman,serif\" font-size=\"14.00\">value = [2, 0]</text>\r\n",
       "<text text-anchor=\"middle\" x=\"591.5\" y=\"-7.8\" font-family=\"Times New Roman,serif\" font-size=\"14.00\">class = benign</text>\r\n",
       "</g>\r\n",
       "<!-- 15&#45;&gt;16 -->\r\n",
       "<g id=\"edge16\" class=\"edge\"><title>15&#45;&gt;16</title>\r\n",
       "<path fill=\"none\" stroke=\"black\" d=\"M614.909,-88.9485C611.668,-80.4408 608.169,-71.2562 604.889,-62.6464\"/>\r\n",
       "<polygon fill=\"black\" stroke=\"black\" points=\"608.135,-61.3356 601.304,-53.2367 601.594,-63.8276 608.135,-61.3356\"/>\r\n",
       "</g>\r\n",
       "<!-- 17 -->\r\n",
       "<g id=\"node18\" class=\"node\"><title>17</title>\r\n",
       "<polygon fill=\"#399de5\" stroke=\"black\" points=\"771,-53 658,-53 658,-0 771,-0 771,-53\"/>\r\n",
       "<text text-anchor=\"middle\" x=\"714.5\" y=\"-37.8\" font-family=\"Times New Roman,serif\" font-size=\"14.00\">samples = 1</text>\r\n",
       "<text text-anchor=\"middle\" x=\"714.5\" y=\"-22.8\" font-family=\"Times New Roman,serif\" font-size=\"14.00\">value = [0, 1]</text>\r\n",
       "<text text-anchor=\"middle\" x=\"714.5\" y=\"-7.8\" font-family=\"Times New Roman,serif\" font-size=\"14.00\">class = malignant</text>\r\n",
       "</g>\r\n",
       "<!-- 15&#45;&gt;17 -->\r\n",
       "<g id=\"edge17\" class=\"edge\"><title>15&#45;&gt;17</title>\r\n",
       "<path fill=\"none\" stroke=\"black\" d=\"M657.928,-88.9485C666.35,-79.8005 675.493,-69.8697 683.923,-60.7126\"/>\r\n",
       "<polygon fill=\"black\" stroke=\"black\" points=\"686.608,-62.9643 690.806,-53.2367 681.458,-58.2231 686.608,-62.9643\"/>\r\n",
       "</g>\r\n",
       "<!-- 20 -->\r\n",
       "<g id=\"node21\" class=\"node\"><title>20</title>\r\n",
       "<polygon fill=\"#399de5\" stroke=\"black\" points=\"723,-357.5 610,-357.5 610,-304.5 723,-304.5 723,-357.5\"/>\r\n",
       "<text text-anchor=\"middle\" x=\"666.5\" y=\"-342.3\" font-family=\"Times New Roman,serif\" font-size=\"14.00\">samples = 2</text>\r\n",
       "<text text-anchor=\"middle\" x=\"666.5\" y=\"-327.3\" font-family=\"Times New Roman,serif\" font-size=\"14.00\">value = [0, 2]</text>\r\n",
       "<text text-anchor=\"middle\" x=\"666.5\" y=\"-312.3\" font-family=\"Times New Roman,serif\" font-size=\"14.00\">class = malignant</text>\r\n",
       "</g>\r\n",
       "<!-- 19&#45;&gt;20 -->\r\n",
       "<g id=\"edge20\" class=\"edge\"><title>19&#45;&gt;20</title>\r\n",
       "<path fill=\"none\" stroke=\"black\" d=\"M707.695,-400.884C701.052,-389.776 693.634,-377.372 686.943,-366.184\"/>\r\n",
       "<polygon fill=\"black\" stroke=\"black\" points=\"689.898,-364.306 681.762,-357.52 683.891,-367.899 689.898,-364.306\"/>\r\n",
       "</g>\r\n",
       "<!-- 21 -->\r\n",
       "<g id=\"node22\" class=\"node\"><title>21</title>\r\n",
       "<polygon fill=\"#e58139\" stroke=\"black\" points=\"839.5,-357.5 741.5,-357.5 741.5,-304.5 839.5,-304.5 839.5,-357.5\"/>\r\n",
       "<text text-anchor=\"middle\" x=\"790.5\" y=\"-342.3\" font-family=\"Times New Roman,serif\" font-size=\"14.00\">samples = 14</text>\r\n",
       "<text text-anchor=\"middle\" x=\"790.5\" y=\"-327.3\" font-family=\"Times New Roman,serif\" font-size=\"14.00\">value = [14, 0]</text>\r\n",
       "<text text-anchor=\"middle\" x=\"790.5\" y=\"-312.3\" font-family=\"Times New Roman,serif\" font-size=\"14.00\">class = benign</text>\r\n",
       "</g>\r\n",
       "<!-- 19&#45;&gt;21 -->\r\n",
       "<g id=\"edge21\" class=\"edge\"><title>19&#45;&gt;21</title>\r\n",
       "<path fill=\"none\" stroke=\"black\" d=\"M747.954,-400.884C754.815,-389.776 762.476,-377.372 769.386,-366.184\"/>\r\n",
       "<polygon fill=\"black\" stroke=\"black\" points=\"772.461,-367.867 774.738,-357.52 766.505,-364.189 772.461,-367.867\"/>\r\n",
       "</g>\r\n",
       "<!-- 23 -->\r\n",
       "<g id=\"node24\" class=\"node\"><title>23</title>\r\n",
       "<polygon fill=\"#6ab6ec\" stroke=\"black\" points=\"972,-469 859,-469 859,-401 972,-401 972,-469\"/>\r\n",
       "<text text-anchor=\"middle\" x=\"915.5\" y=\"-453.8\" font-family=\"Times New Roman,serif\" font-size=\"14.00\">X[20] &lt;= 17.545</text>\r\n",
       "<text text-anchor=\"middle\" x=\"915.5\" y=\"-438.8\" font-family=\"Times New Roman,serif\" font-size=\"14.00\">samples = 5</text>\r\n",
       "<text text-anchor=\"middle\" x=\"915.5\" y=\"-423.8\" font-family=\"Times New Roman,serif\" font-size=\"14.00\">value = [1, 4]</text>\r\n",
       "<text text-anchor=\"middle\" x=\"915.5\" y=\"-408.8\" font-family=\"Times New Roman,serif\" font-size=\"14.00\">class = malignant</text>\r\n",
       "</g>\r\n",
       "<!-- 22&#45;&gt;23 -->\r\n",
       "<g id=\"edge23\" class=\"edge\"><title>22&#45;&gt;23</title>\r\n",
       "<path fill=\"none\" stroke=\"black\" d=\"M915.5,-504.884C915.5,-496.778 915.5,-487.982 915.5,-479.472\"/>\r\n",
       "<polygon fill=\"black\" stroke=\"black\" points=\"919,-479.299 915.5,-469.299 912,-479.299 919,-479.299\"/>\r\n",
       "</g>\r\n",
       "<!-- 26 -->\r\n",
       "<g id=\"node27\" class=\"node\"><title>26</title>\r\n",
       "<polygon fill=\"#e6853f\" stroke=\"black\" points=\"1212.5,-469 1108.5,-469 1108.5,-401 1212.5,-401 1212.5,-469\"/>\r\n",
       "<text text-anchor=\"middle\" x=\"1160.5\" y=\"-453.8\" font-family=\"Times New Roman,serif\" font-size=\"14.00\">X[26] &lt;= 0.191</text>\r\n",
       "<text text-anchor=\"middle\" x=\"1160.5\" y=\"-438.8\" font-family=\"Times New Roman,serif\" font-size=\"14.00\">samples = 147</text>\r\n",
       "<text text-anchor=\"middle\" x=\"1160.5\" y=\"-423.8\" font-family=\"Times New Roman,serif\" font-size=\"14.00\">value = [143, 4]</text>\r\n",
       "<text text-anchor=\"middle\" x=\"1160.5\" y=\"-408.8\" font-family=\"Times New Roman,serif\" font-size=\"14.00\">class = benign</text>\r\n",
       "</g>\r\n",
       "<!-- 22&#45;&gt;26 -->\r\n",
       "<g id=\"edge26\" class=\"edge\"><title>22&#45;&gt;26</title>\r\n",
       "<path fill=\"none\" stroke=\"black\" d=\"M967.758,-516.244C1006.14,-500.265 1058.41,-478.501 1098.84,-461.67\"/>\r\n",
       "<polygon fill=\"black\" stroke=\"black\" points=\"1100.44,-464.798 1108.32,-457.723 1097.75,-458.335 1100.44,-464.798\"/>\r\n",
       "</g>\r\n",
       "<!-- 24 -->\r\n",
       "<g id=\"node25\" class=\"node\"><title>24</title>\r\n",
       "<polygon fill=\"#399de5\" stroke=\"black\" points=\"971,-357.5 858,-357.5 858,-304.5 971,-304.5 971,-357.5\"/>\r\n",
       "<text text-anchor=\"middle\" x=\"914.5\" y=\"-342.3\" font-family=\"Times New Roman,serif\" font-size=\"14.00\">samples = 4</text>\r\n",
       "<text text-anchor=\"middle\" x=\"914.5\" y=\"-327.3\" font-family=\"Times New Roman,serif\" font-size=\"14.00\">value = [0, 4]</text>\r\n",
       "<text text-anchor=\"middle\" x=\"914.5\" y=\"-312.3\" font-family=\"Times New Roman,serif\" font-size=\"14.00\">class = malignant</text>\r\n",
       "</g>\r\n",
       "<!-- 23&#45;&gt;24 -->\r\n",
       "<g id=\"edge24\" class=\"edge\"><title>23&#45;&gt;24</title>\r\n",
       "<path fill=\"none\" stroke=\"black\" d=\"M915.175,-400.884C915.072,-390.326 914.957,-378.597 914.852,-367.854\"/>\r\n",
       "<polygon fill=\"black\" stroke=\"black\" points=\"918.348,-367.485 914.75,-357.52 911.348,-367.554 918.348,-367.485\"/>\r\n",
       "</g>\r\n",
       "<!-- 25 -->\r\n",
       "<g id=\"node26\" class=\"node\"><title>25</title>\r\n",
       "<polygon fill=\"#e58139\" stroke=\"black\" points=\"1086,-357.5 989,-357.5 989,-304.5 1086,-304.5 1086,-357.5\"/>\r\n",
       "<text text-anchor=\"middle\" x=\"1037.5\" y=\"-342.3\" font-family=\"Times New Roman,serif\" font-size=\"14.00\">samples = 1</text>\r\n",
       "<text text-anchor=\"middle\" x=\"1037.5\" y=\"-327.3\" font-family=\"Times New Roman,serif\" font-size=\"14.00\">value = [1, 0]</text>\r\n",
       "<text text-anchor=\"middle\" x=\"1037.5\" y=\"-312.3\" font-family=\"Times New Roman,serif\" font-size=\"14.00\">class = benign</text>\r\n",
       "</g>\r\n",
       "<!-- 23&#45;&gt;25 -->\r\n",
       "<g id=\"edge25\" class=\"edge\"><title>23&#45;&gt;25</title>\r\n",
       "<path fill=\"none\" stroke=\"black\" d=\"M955.11,-400.884C969.185,-389.116 985,-375.894 998.982,-364.203\"/>\r\n",
       "<polygon fill=\"black\" stroke=\"black\" points=\"1001.55,-366.619 1006.98,-357.52 997.059,-361.249 1001.55,-366.619\"/>\r\n",
       "</g>\r\n",
       "<!-- 27 -->\r\n",
       "<g id=\"node28\" class=\"node\"><title>27</title>\r\n",
       "<polygon fill=\"#cee6f8\" stroke=\"black\" points=\"1217,-365 1104,-365 1104,-297 1217,-297 1217,-365\"/>\r\n",
       "<text text-anchor=\"middle\" x=\"1160.5\" y=\"-349.8\" font-family=\"Times New Roman,serif\" font-size=\"14.00\">X[1] &lt;= 21.26</text>\r\n",
       "<text text-anchor=\"middle\" x=\"1160.5\" y=\"-334.8\" font-family=\"Times New Roman,serif\" font-size=\"14.00\">samples = 7</text>\r\n",
       "<text text-anchor=\"middle\" x=\"1160.5\" y=\"-319.8\" font-family=\"Times New Roman,serif\" font-size=\"14.00\">value = [3, 4]</text>\r\n",
       "<text text-anchor=\"middle\" x=\"1160.5\" y=\"-304.8\" font-family=\"Times New Roman,serif\" font-size=\"14.00\">class = malignant</text>\r\n",
       "</g>\r\n",
       "<!-- 26&#45;&gt;27 -->\r\n",
       "<g id=\"edge27\" class=\"edge\"><title>26&#45;&gt;27</title>\r\n",
       "<path fill=\"none\" stroke=\"black\" d=\"M1160.5,-400.884C1160.5,-392.778 1160.5,-383.982 1160.5,-375.472\"/>\r\n",
       "<polygon fill=\"black\" stroke=\"black\" points=\"1164,-375.299 1160.5,-365.299 1157,-375.299 1164,-375.299\"/>\r\n",
       "</g>\r\n",
       "<!-- 30 -->\r\n",
       "<g id=\"node31\" class=\"node\"><title>30</title>\r\n",
       "<polygon fill=\"#e58139\" stroke=\"black\" points=\"1339.5,-357.5 1235.5,-357.5 1235.5,-304.5 1339.5,-304.5 1339.5,-357.5\"/>\r\n",
       "<text text-anchor=\"middle\" x=\"1287.5\" y=\"-342.3\" font-family=\"Times New Roman,serif\" font-size=\"14.00\">samples = 140</text>\r\n",
       "<text text-anchor=\"middle\" x=\"1287.5\" y=\"-327.3\" font-family=\"Times New Roman,serif\" font-size=\"14.00\">value = [140, 0]</text>\r\n",
       "<text text-anchor=\"middle\" x=\"1287.5\" y=\"-312.3\" font-family=\"Times New Roman,serif\" font-size=\"14.00\">class = benign</text>\r\n",
       "</g>\r\n",
       "<!-- 26&#45;&gt;30 -->\r\n",
       "<g id=\"edge30\" class=\"edge\"><title>26&#45;&gt;30</title>\r\n",
       "<path fill=\"none\" stroke=\"black\" d=\"M1201.73,-400.884C1216.52,-389.006 1233.16,-375.646 1247.81,-363.876\"/>\r\n",
       "<polygon fill=\"black\" stroke=\"black\" points=\"1250.12,-366.511 1255.73,-357.52 1245.74,-361.053 1250.12,-366.511\"/>\r\n",
       "</g>\r\n",
       "<!-- 28 -->\r\n",
       "<g id=\"node29\" class=\"node\"><title>28</title>\r\n",
       "<polygon fill=\"#399de5\" stroke=\"black\" points=\"1155,-253.5 1042,-253.5 1042,-200.5 1155,-200.5 1155,-253.5\"/>\r\n",
       "<text text-anchor=\"middle\" x=\"1098.5\" y=\"-238.3\" font-family=\"Times New Roman,serif\" font-size=\"14.00\">samples = 4</text>\r\n",
       "<text text-anchor=\"middle\" x=\"1098.5\" y=\"-223.3\" font-family=\"Times New Roman,serif\" font-size=\"14.00\">value = [0, 4]</text>\r\n",
       "<text text-anchor=\"middle\" x=\"1098.5\" y=\"-208.3\" font-family=\"Times New Roman,serif\" font-size=\"14.00\">class = malignant</text>\r\n",
       "</g>\r\n",
       "<!-- 27&#45;&gt;28 -->\r\n",
       "<g id=\"edge28\" class=\"edge\"><title>27&#45;&gt;28</title>\r\n",
       "<path fill=\"none\" stroke=\"black\" d=\"M1140.37,-296.884C1133.62,-285.776 1126.08,-273.372 1119.28,-262.184\"/>\r\n",
       "<polygon fill=\"black\" stroke=\"black\" points=\"1122.2,-260.247 1114.01,-253.52 1116.22,-263.883 1122.2,-260.247\"/>\r\n",
       "</g>\r\n",
       "<!-- 29 -->\r\n",
       "<g id=\"node30\" class=\"node\"><title>29</title>\r\n",
       "<polygon fill=\"#e58139\" stroke=\"black\" points=\"1270,-253.5 1173,-253.5 1173,-200.5 1270,-200.5 1270,-253.5\"/>\r\n",
       "<text text-anchor=\"middle\" x=\"1221.5\" y=\"-238.3\" font-family=\"Times New Roman,serif\" font-size=\"14.00\">samples = 3</text>\r\n",
       "<text text-anchor=\"middle\" x=\"1221.5\" y=\"-223.3\" font-family=\"Times New Roman,serif\" font-size=\"14.00\">value = [3, 0]</text>\r\n",
       "<text text-anchor=\"middle\" x=\"1221.5\" y=\"-208.3\" font-family=\"Times New Roman,serif\" font-size=\"14.00\">class = benign</text>\r\n",
       "</g>\r\n",
       "<!-- 27&#45;&gt;29 -->\r\n",
       "<g id=\"edge29\" class=\"edge\"><title>27&#45;&gt;29</title>\r\n",
       "<path fill=\"none\" stroke=\"black\" d=\"M1180.3,-296.884C1186.95,-285.776 1194.37,-273.372 1201.06,-262.184\"/>\r\n",
       "<polygon fill=\"black\" stroke=\"black\" points=\"1204.11,-263.899 1206.24,-253.52 1198.1,-260.306 1204.11,-263.899\"/>\r\n",
       "</g>\r\n",
       "</g>\r\n",
       "</svg>\r\n"
      ],
      "text/plain": [
       "<graphviz.files.Source at 0x2229f71cd90>"
      ]
     },
     "execution_count": 352,
     "metadata": {},
     "output_type": "execute_result"
    }
   ],
   "source": [
    "plt.subplot(2,1,2)\n",
    "plt.step(rec, pre)\n",
    "plt.xlabel('Recall')\n",
    "plt.ylabel('Precision')\n",
    "plt.title('precision/recall curve')\n",
    "plt.show()\n",
    "\n",
    "graph = Source(tree.export_graphviz(model, out_file=None, class_names=['benign','malignant'], impurity=False,filled=True))\n",
    "graph"
   ]
  },
  {
   "cell_type": "markdown",
   "id": "909cd6b8",
   "metadata": {},
   "source": [
    "## 3. Similarly as in previous step, train another Decision Tree Classifier - but in this case set the maximum depth of the tree to 1 (max_depth = 1). Use the same training and test set as you used for the Decision Tree in the previous step."
   ]
  },
  {
   "cell_type": "markdown",
   "id": "fc591f6c",
   "metadata": {},
   "source": [
    "### 3.1. Using scikit-learn’s DecisionTreeClassifier, train a supervised learning model that can be used to gnerate predictions for your data."
   ]
  },
  {
   "cell_type": "code",
   "execution_count": 353,
   "id": "252f62ca",
   "metadata": {},
   "outputs": [],
   "source": [
    "# Import the classifier from sklearn\n",
    "model_1 = DecisionTreeClassifier(max_depth = 1)\n",
    "model_1.fit(X_train,y_train)\n",
    "\n",
    "# Making predictions\n",
    "y_test_pred_1 = model_1.predict(X_test)"
   ]
  },
  {
   "cell_type": "markdown",
   "id": "6808a952",
   "metadata": {},
   "source": [
    "#### 3.1.1. The accuracy of your model on the test data"
   ]
  },
  {
   "cell_type": "code",
   "execution_count": 354,
   "id": "7a642677",
   "metadata": {},
   "outputs": [
    {
     "name": "stdout",
     "output_type": "stream",
     "text": [
      "The accuracy is 0.8947368421052632\n"
     ]
    }
   ],
   "source": [
    "accuracy_1 = accuracy_score(y_test, y_test_pred_1)\n",
    "print('The accuracy is', accuracy_1)"
   ]
  },
  {
   "cell_type": "markdown",
   "id": "8b4bcfcd",
   "metadata": {},
   "source": [
    "#### 3.1.2. The precision and recall values"
   ]
  },
  {
   "cell_type": "code",
   "execution_count": 355,
   "id": "51c31e96",
   "metadata": {},
   "outputs": [
    {
     "name": "stdout",
     "output_type": "stream",
     "text": [
      "The precision is 0.881578947368421\n",
      "The recall is 0.9571428571428572\n"
     ]
    }
   ],
   "source": [
    "precision_1 = precision_score(y_test, y_test_pred_1)\n",
    "print('The precision is', precision_1)\n",
    "recall_1 = recall_score(y_test, y_test_pred_1)\n",
    "print('The recall is',recall_1)"
   ]
  },
  {
   "cell_type": "markdown",
   "id": "95d5e329",
   "metadata": {},
   "source": [
    "#### 3.1.3. A classification report (scikit-learn has a function that can create this for you)"
   ]
  },
  {
   "cell_type": "code",
   "execution_count": 356,
   "id": "d5d961a4",
   "metadata": {},
   "outputs": [
    {
     "name": "stdout",
     "output_type": "stream",
     "text": [
      "The classification report is\n",
      "               precision    recall  f1-score   support\n",
      "\n",
      "           0       0.92      0.80      0.85        44\n",
      "           1       0.88      0.96      0.92        70\n",
      "\n",
      "    accuracy                           0.89       114\n",
      "   macro avg       0.90      0.88      0.89       114\n",
      "weighted avg       0.90      0.89      0.89       114\n",
      "\n"
     ]
    }
   ],
   "source": [
    "classification_1 = classification_report(y_test, y_test_pred_1)\n",
    "print('The classification report is\\n',classification_1)"
   ]
  },
  {
   "cell_type": "markdown",
   "id": "5af0ec49",
   "metadata": {},
   "source": [
    "#### 3.1.4. The confusion matrix for this experiment"
   ]
  },
  {
   "cell_type": "code",
   "execution_count": 357,
   "id": "04b0cf7c",
   "metadata": {},
   "outputs": [
    {
     "name": "stdout",
     "output_type": "stream",
     "text": [
      "The confusion matrix is\n",
      " [[35  9]\n",
      " [ 3 67]]\n"
     ]
    }
   ],
   "source": [
    "confusion_1 = confusion_matrix(y_test, y_test_pred_1)\n",
    "print('The confusion matrix is\\n',confusion_1)"
   ]
  },
  {
   "cell_type": "markdown",
   "id": "c5e1565e",
   "metadata": {},
   "source": [
    "#### 3.1.5. An ROC curve"
   ]
  },
  {
   "cell_type": "code",
   "execution_count": 358,
   "id": "da6d3074",
   "metadata": {},
   "outputs": [
    {
     "data": {
      "image/png": "[encoded data removed]",
      "text/plain": [
       "<Figure size 432x288 with 1 Axes>"
      ]
     },
     "metadata": {
      "needs_background": "light"
     },
     "output_type": "display_data"
    }
   ],
   "source": [
    "fpr_1, tpr_1, thersholds_1 = roc_curve(y_test, y_test_pred_1)\n",
    "pre_1, rec_1, thresholds2_1 = precision_recall_curve(y_test, y_test_pred_1)\n",
    "\n",
    "plt.figure()\n",
    "plt.subplot(2,1,1)\n",
    "plt.plot(fpr_1, tpr_1)\n",
    "plt.xlabel('False Positive Rate')\n",
    "plt.ylabel('True Positive Rate')\n",
    "plt.title('ROC Curve')\n",
    "plt.show()"
   ]
  },
  {
   "cell_type": "markdown",
   "id": "4e616914",
   "metadata": {},
   "source": [
    "#### 3.1.6. A Precision/Recall curve"
   ]
  },
  {
   "cell_type": "code",
   "execution_count": 359,
   "id": "6765c5d9",
   "metadata": {},
   "outputs": [
    {
     "data": {
      "image/png": "[encoded data removed]",
      "text/plain": [
       "<Figure size 432x288 with 1 Axes>"
      ]
     },
     "metadata": {
      "needs_background": "light"
     },
     "output_type": "display_data"
    },
    {
     "data": {
      "image/svg+xml": [
       "<?xml version=\"1.0\" encoding=\"UTF-8\" standalone=\"no\"?>\r\n",
       "<!DOCTYPE svg PUBLIC \"-//W3C//DTD SVG 1.1//EN\"\r\n",
       " \"http://www.w3.org/Graphics/SVG/1.1/DTD/svg11.dtd\">\r\n",
       "<!-- Generated by graphviz version 2.38.0 (20140413.2041)\r\n",
       " -->\r\n",
       "<!-- Title: Tree Pages: 1 -->\r\n",
       "<svg width=\"244pt\" height=\"165pt\"\r\n",
       " viewBox=\"0.00 0.00 243.50 165.00\" xmlns=\"http://www.w3.org/2000/svg\" xmlns:xlink=\"http://www.w3.org/1999/xlink\">\r\n",
       "<g id=\"graph0\" class=\"graph\" transform=\"scale(1 1) rotate(0) translate(4 161)\">\r\n",
       "<title>Tree</title>\r\n",
       "<polygon fill=\"white\" stroke=\"none\" points=\"-4,4 -4,-161 239.5,-161 239.5,4 -4,4\"/>\r\n",
       "<!-- 0 -->\r\n",
       "<g id=\"node1\" class=\"node\"><title>0</title>\r\n",
       "<polygon fill=\"#add6f4\" stroke=\"black\" points=\"178.5,-157 60.5,-157 60.5,-89 178.5,-89 178.5,-157\"/>\r\n",
       "<text text-anchor=\"middle\" x=\"119.5\" y=\"-141.8\" font-family=\"Times New Roman,serif\" font-size=\"14.00\">X[20] &lt;= 16.795</text>\r\n",
       "<text text-anchor=\"middle\" x=\"119.5\" y=\"-126.8\" font-family=\"Times New Roman,serif\" font-size=\"14.00\">samples = 455</text>\r\n",
       "<text text-anchor=\"middle\" x=\"119.5\" y=\"-111.8\" font-family=\"Times New Roman,serif\" font-size=\"14.00\">value = [168, 287]</text>\r\n",
       "<text text-anchor=\"middle\" x=\"119.5\" y=\"-96.8\" font-family=\"Times New Roman,serif\" font-size=\"14.00\">class = malignant</text>\r\n",
       "</g>\r\n",
       "<!-- 1 -->\r\n",
       "<g id=\"node2\" class=\"node\"><title>1</title>\r\n",
       "<polygon fill=\"#4aa5e7\" stroke=\"black\" points=\"113,-53 0,-53 0,-0 113,-0 113,-53\"/>\r\n",
       "<text text-anchor=\"middle\" x=\"56.5\" y=\"-37.8\" font-family=\"Times New Roman,serif\" font-size=\"14.00\">samples = 303</text>\r\n",
       "<text text-anchor=\"middle\" x=\"56.5\" y=\"-22.8\" font-family=\"Times New Roman,serif\" font-size=\"14.00\">value = [24, 279]</text>\r\n",
       "<text text-anchor=\"middle\" x=\"56.5\" y=\"-7.8\" font-family=\"Times New Roman,serif\" font-size=\"14.00\">class = malignant</text>\r\n",
       "</g>\r\n",
       "<!-- 0&#45;&gt;1 -->\r\n",
       "<g id=\"edge1\" class=\"edge\"><title>0&#45;&gt;1</title>\r\n",
       "<path fill=\"none\" stroke=\"black\" d=\"M97.4657,-88.9485C91.6109,-80.1664 85.2753,-70.6629 79.3767,-61.815\"/>\r\n",
       "<polygon fill=\"black\" stroke=\"black\" points=\"82.117,-59.6158 73.6578,-53.2367 76.2927,-63.4987 82.117,-59.6158\"/>\r\n",
       "<text text-anchor=\"middle\" x=\"68.7549\" y=\"-74.0512\" font-family=\"Times New Roman,serif\" font-size=\"14.00\">True</text>\r\n",
       "</g>\r\n",
       "<!-- 2 -->\r\n",
       "<g id=\"node3\" class=\"node\"><title>2</title>\r\n",
       "<polygon fill=\"#e68844\" stroke=\"black\" points=\"235.5,-53 131.5,-53 131.5,-0 235.5,-0 235.5,-53\"/>\r\n",
       "<text text-anchor=\"middle\" x=\"183.5\" y=\"-37.8\" font-family=\"Times New Roman,serif\" font-size=\"14.00\">samples = 152</text>\r\n",
       "<text text-anchor=\"middle\" x=\"183.5\" y=\"-22.8\" font-family=\"Times New Roman,serif\" font-size=\"14.00\">value = [144, 8]</text>\r\n",
       "<text text-anchor=\"middle\" x=\"183.5\" y=\"-7.8\" font-family=\"Times New Roman,serif\" font-size=\"14.00\">class = benign</text>\r\n",
       "</g>\r\n",
       "<!-- 0&#45;&gt;2 -->\r\n",
       "<g id=\"edge2\" class=\"edge\"><title>0&#45;&gt;2</title>\r\n",
       "<path fill=\"none\" stroke=\"black\" d=\"M141.884,-88.9485C147.894,-80.0749 154.402,-70.4648 160.447,-61.5388\"/>\r\n",
       "<polygon fill=\"black\" stroke=\"black\" points=\"163.36,-63.4792 166.07,-53.2367 157.564,-59.5539 163.36,-63.4792\"/>\r\n",
       "<text text-anchor=\"middle\" x=\"170.794\" y=\"-74.0863\" font-family=\"Times New Roman,serif\" font-size=\"14.00\">False</text>\r\n",
       "</g>\r\n",
       "</g>\r\n",
       "</svg>\r\n"
      ],
      "text/plain": [
       "<graphviz.files.Source at 0x2229f727340>"
      ]
     },
     "execution_count": 359,
     "metadata": {},
     "output_type": "execute_result"
    }
   ],
   "source": [
    "plt.subplot(2,1,2)\n",
    "plt.step(rec_1, pre_1)\n",
    "plt.xlabel('Recall')\n",
    "plt.ylabel('Precision')\n",
    "plt.title('precision/recall curve')\n",
    "plt.show()\n",
    "\n",
    "graph = Source(tree.export_graphviz(model_1, out_file=None, class_names=['benign','malignant'], impurity=False,filled=True))\n",
    "graph"
   ]
  },
  {
   "cell_type": "markdown",
   "id": "00881082",
   "metadata": {},
   "source": [
    "## 4. Report on the six evaluation metrics listed in objective for both the models, and compare their results."
   ]
  },
  {
   "cell_type": "markdown",
   "id": "cdec7d93",
   "metadata": {},
   "source": [
    "It can be shown from the above results that when we use a decision tree model with depth of 6, the accuracy of the result is 0.92, the precision of the result is 0.93 and the recall of the result is 0.95, which are all much higher than the model with depth of 1. Because the second model is trained by only one single feature. When it comes to the ROC curve and the conflict matrix, the True Positive and the True Negative of depth 1 are both lower than the ones of depth 6. Besides, the area under the ROC Curve of depth 1 is much smaller than the one of depth 6. So we can draw a conclusion that the deeper the decision tree, the more complex the decision rules and the better the fit to the data. To avoid the problem of overfitting, we should apply a simple decision tree model that shows great performance."
   ]
  }
 ],
 "metadata": {
  "kernelspec": {
   "display_name": "Python 3 (ipykernel)",
   "language": "python",
   "name": "python3"
  },
  "language_info": {
   "codemirror_mode": {
    "name": "ipython",
    "version": 3
   },
   "file_extension": ".py",
   "mimetype": "text/x-python",
   "name": "python",
   "nbconvert_exporter": "python",
   "pygments_lexer": "ipython3",
   "version": "3.9.7"
  }
 },
 "nbformat": 4,
 "nbformat_minor": 5
}
